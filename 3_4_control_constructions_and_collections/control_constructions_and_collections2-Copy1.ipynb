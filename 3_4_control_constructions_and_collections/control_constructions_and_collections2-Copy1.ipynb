{
 "cells": [
  {
   "cell_type": "code",
   "execution_count": null,
   "metadata": {},
   "outputs": [],
   "source": [
    "Задание 1. Дан список с визитами по городам и странам.\n",
    "Напишите код, который возвращает отфильтрованный список geo_logs, содержащий только визиты из России.\n"
   ]
  },
  {
   "cell_type": "code",
   "execution_count": 6,
   "metadata": {},
   "outputs": [
    {
     "name": "stdout",
     "output_type": "stream",
     "text": [
      "[{'visit1': ['Москва', 'Россия']}, {'visit3': ['Владимир', 'Россия']}, {'visit7': ['Тула', 'Россия']}, {'visit8': ['Тула', 'Россия']}, {'visit9': ['Курск', 'Россия']}, {'visit10': ['Архангельск', 'Россия']}]\n"
     ]
    }
   ],
   "source": [
    "geo_logs = [\n",
    "    {'visit1': ['Москва', 'Россия']},\n",
    "    {'visit2': ['Дели', 'Индия']},\n",
    "    {'visit3': ['Владимир', 'Россия']},\n",
    "    {'visit4': ['Лиссабон', 'Португалия']},\n",
    "    {'visit5': ['Париж', 'Франция']},\n",
    "    {'visit6': ['Лиссабон', 'Португалия']},\n",
    "    {'visit7': ['Тула', 'Россия']},\n",
    "    {'visit8': ['Тула', 'Россия']},\n",
    "    {'visit9': ['Курск', 'Россия']},\n",
    "    {'visit10': ['Архангельск', 'Россия']}\n",
    "]\n",
    "\n",
    "new_list = []\n",
    "for visits in geo_logs:\n",
    "    if list(visits.values())[0][1] == 'Россия' :\n",
    "        new_list.append(visits)\n",
    "print(new_list)"
   ]
  },
  {
   "cell_type": "code",
   "execution_count": null,
   "metadata": {},
   "outputs": [],
   "source": [
    "Задание 2. Выведите на экран все уникальные гео-ID из значений словаря ids.\n",
    "Т. е. список вида [213, 15, 54, 119, 98, 35]\n"
   ]
  },
  {
   "cell_type": "code",
   "execution_count": 8,
   "metadata": {},
   "outputs": [
    {
     "name": "stdout",
     "output_type": "stream",
     "text": [
      "[98, 35, 15, 213, 54, 119]\n"
     ]
    }
   ],
   "source": [
    "ids = {'user1': [213, 213, 213, 15, 213], \n",
    "       'user2': [54, 54, 119, 119, 119], \n",
    "       'user3': [213, 98, 98, 35]}\n",
    "\n",
    "new_list = []\n",
    "new_set = set()\n",
    "for element in ids.values():\n",
    "    new_set.update(element)\n",
    "new_list = list(new_set)\n",
    "print(new_list)"
   ]
  },
  {
   "cell_type": "code",
   "execution_count": null,
   "metadata": {},
   "outputs": [],
   "source": [
    "Задание 3. Дан список поисковых запросов. Получить распределение количества слов в них.\n",
    "Т. е. поисковых запросов из одного - слова 5%, из двух - 7%, из трех - 3% и т.д.\n"
   ]
  },
  {
   "cell_type": "code",
   "execution_count": 19,
   "metadata": {},
   "outputs": [
    {
     "name": "stdout",
     "output_type": "stream",
     "text": [
      "Поисковых запросов из 3 слов: 57 %\n",
      "Поисковых запросов из 2 слов: 43 %\n"
     ]
    }
   ],
   "source": [
    "queries = [\n",
    "    'смотреть сериалы онлайн',\n",
    "    'новости спорта',\n",
    "    'афиша кино',\n",
    "    'курс доллара',\n",
    "    'сериалы этим летом',\n",
    "    'курс по питону',\n",
    "    'сериалы про спорт',\n",
    "]\n",
    "\n",
    "new_list = []\n",
    "new_list2 = []\n",
    "new_list3 = []\n",
    "new_list4 = []\n",
    "words_in_queries = 0\n",
    "\n",
    "for i in queries:\n",
    "    new_list.append(i.strip().split(' '))\n",
    "\n",
    "for i in new_list:\n",
    "    total_el = len(new_list)\n",
    "    x = len(i)\n",
    "    new_list2.append(x)\n",
    "\n",
    "for words_in_queries in new_list2:\n",
    "    z = new_list2.count(words_in_queries)\n",
    "    y = [words_in_queries,z/total_el]\n",
    "    words_in_queries = words_in_queries + 1\n",
    "    new_list3.append(y)\n",
    "\n",
    "for el in new_list3:\n",
    "    if el not in new_list4:\n",
    "        new_list4.append(el)\n",
    "zzz = 0       \n",
    "for i in new_list4:\n",
    "    print(\"Поисковых запросов из\", new_list4[zzz][0],\"слов:\",round(new_list4[zzz][1]*100),\"%\") \n",
    "    zzz = zzz + 1"
   ]
  },
  {
   "cell_type": "code",
   "execution_count": null,
   "metadata": {},
   "outputs": [],
   "source": [
    "Задание 4. Дана статистика рекламных каналов по объемам продаж.\n",
    "Напишите скрипт, который возвращает название канала с максимальным объемом. \n",
    "Т. е. в данном примере скрипт должен возвращать 'yandex'.\n"
   ]
  },
  {
   "cell_type": "code",
   "execution_count": 59,
   "metadata": {},
   "outputs": [
    {
     "name": "stdout",
     "output_type": "stream",
     "text": [
      "('yandex', 120)\n"
     ]
    }
   ],
   "source": [
    "stats = {'facebook': 55, 'yandex': 120, 'vk': 115, 'google': 99, 'email': 42, 'ok': 98}\n",
    "\n",
    "new_list = []\n",
    "last_element = len(stats)-1\n",
    "\n",
    "for i in sorted(stats.items(),key = lambda element: element[1]):\n",
    "    new_list.append(i)\n",
    "print(new_list[last_element])"
   ]
  },
  {
   "cell_type": "code",
   "execution_count": null,
   "metadata": {},
   "outputs": [],
   "source": [
    "Задание 5. Напишите код для преобразования произвольного списка вида ['2018-01-01', 'yandex', 'cpc', 100] \n",
    "(он может быть любой длины) в словарь {'2018-01-01': {'yandex': {'cpc': 100}}}"
   ]
  },
  {
   "cell_type": "code",
   "execution_count": 8,
   "metadata": {},
   "outputs": [
    {
     "name": "stdout",
     "output_type": "stream",
     "text": [
      "{'2018-01-01': {'yandex': {'cpc': 100}}}\n"
     ]
    }
   ],
   "source": [
    "my_list = ['2018-01-01', 'yandex', 'cpc', 100] \n",
    "\n",
    "first_el = len(my_list)-1\n",
    "new_dict = my_list[first_el]\n",
    "i = first_el - 1\n",
    "\n",
    "while i >= 0:\n",
    "    new_dict = {my_list[i]:new_dict}\n",
    "    i = i-1\n",
    "\n",
    "print(new_dict)\n"
   ]
  }
 ],
 "metadata": {
  "kernelspec": {
   "display_name": "Python 3",
   "language": "python",
   "name": "python3"
  },
  "language_info": {
   "codemirror_mode": {
    "name": "ipython",
    "version": 3
   },
   "file_extension": ".py",
   "mimetype": "text/x-python",
   "name": "python",
   "nbconvert_exporter": "python",
   "pygments_lexer": "ipython3",
   "version": "3.7.6"
  }
 },
 "nbformat": 4,
 "nbformat_minor": 4
}
