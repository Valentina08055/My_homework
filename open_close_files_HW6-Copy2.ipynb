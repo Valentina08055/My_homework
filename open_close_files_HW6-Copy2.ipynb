{
 "cells": [
  {
   "cell_type": "code",
   "execution_count": null,
   "metadata": {},
   "outputs": [],
   "source": [
    "Переведите содержимое файла purchase_log.txt в словарь purchases вида:\n",
    "{'1840e0b9d4': 'Продукты', ...}"
   ]
  },
  {
   "cell_type": "code",
   "execution_count": null,
   "metadata": {},
   "outputs": [],
   "source": [
    "Для каждого user_id в файле visit_log.csv определите третий столбец с категорией \n",
    "покупки (если покупка была, сам файл visit_log.csv изменять не надо). \n",
    "Запишите в файл funnel.csv визиты из файла visit_log.csv, в которых были покупки с указанием категории."
   ]
  },
  {
   "cell_type": "code",
   "execution_count": 1,
   "metadata": {},
   "outputs": [],
   "source": [
    "import json\n",
    "\n",
    "i = 0\n",
    "purchases = {}\n",
    "\n",
    "with open('purchase_log.txt',encoding = 'utf-8') as f:\n",
    "    f.readline()\n",
    "    for line in f:\n",
    "        line = line.strip()\n",
    "\n",
    "        dict_ = json.loads(line)\n",
    "        purchases[dict_['user_id']] = dict_['category']\n",
    "#         print(line)\n",
    "        i += 1\n",
    "#         if i > 25:\n",
    "#             break\n"
   ]
  },
  {
   "cell_type": "code",
   "execution_count": 6,
   "metadata": {},
   "outputs": [],
   "source": [
    "with open('visit_log.csv', 'r', encoding ='utf-8') as f:\n",
    "    with open('funnel.csv', 'w') as f2:\n",
    "        for line in f:\n",
    "            line = line.strip().split(',')\n",
    "           \n",
    "            if line[0] in purchases.keys():\n",
    "#                 print(line[0])\n",
    "                f2.write(line[0] + ' ,' + line[1] + ',' + purchases[line[0]] + '\\n')\n",
    "\n",
    "f.close()\n",
    "f2.close()"
   ]
  },
  {
   "cell_type": "code",
   "execution_count": null,
   "metadata": {},
   "outputs": [],
   "source": []
  }
 ],
 "metadata": {
  "kernelspec": {
   "display_name": "Python 3",
   "language": "python",
   "name": "python3"
  },
  "language_info": {
   "codemirror_mode": {
    "name": "ipython",
    "version": 3
   },
   "file_extension": ".py",
   "mimetype": "text/x-python",
   "name": "python",
   "nbconvert_exporter": "python",
   "pygments_lexer": "ipython3",
   "version": "3.7.6"
  }
 },
 "nbformat": 4,
 "nbformat_minor": 4
}
