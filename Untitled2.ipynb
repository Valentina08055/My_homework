{
 "cells": [
  {
   "cell_type": "code",
   "execution_count": 2,
   "metadata": {},
   "outputs": [
    {
     "data": {
      "text/html": [
       "<div>\n",
       "<style scoped>\n",
       "    .dataframe tbody tr th:only-of-type {\n",
       "        vertical-align: middle;\n",
       "    }\n",
       "\n",
       "    .dataframe tbody tr th {\n",
       "        vertical-align: top;\n",
       "    }\n",
       "\n",
       "    .dataframe thead th {\n",
       "        text-align: right;\n",
       "    }\n",
       "</style>\n",
       "<table border=\"1\" class=\"dataframe\">\n",
       "  <thead>\n",
       "    <tr style=\"text-align: right;\">\n",
       "      <th></th>\n",
       "      <th>country</th>\n",
       "      <th>year</th>\n",
       "      <th>quantity</th>\n",
       "      <th>category</th>\n",
       "    </tr>\n",
       "  </thead>\n",
       "  <tbody>\n",
       "    <tr>\n",
       "      <th>0</th>\n",
       "      <td>Austria</td>\n",
       "      <td>1996</td>\n",
       "      <td>5.0</td>\n",
       "      <td>1</td>\n",
       "    </tr>\n",
       "    <tr>\n",
       "      <th>1</th>\n",
       "      <td>Austria</td>\n",
       "      <td>1995</td>\n",
       "      <td>17.0</td>\n",
       "      <td>1</td>\n",
       "    </tr>\n",
       "    <tr>\n",
       "      <th>2</th>\n",
       "      <td>Belgium</td>\n",
       "      <td>2014</td>\n",
       "      <td>0.0</td>\n",
       "      <td>1</td>\n",
       "    </tr>\n",
       "    <tr>\n",
       "      <th>3</th>\n",
       "      <td>Belgium</td>\n",
       "      <td>2013</td>\n",
       "      <td>0.0</td>\n",
       "      <td>1</td>\n",
       "    </tr>\n",
       "    <tr>\n",
       "      <th>4</th>\n",
       "      <td>Belgium</td>\n",
       "      <td>2012</td>\n",
       "      <td>35.0</td>\n",
       "      <td>1</td>\n",
       "    </tr>\n",
       "  </tbody>\n",
       "</table>\n",
       "</div>"
      ],
      "text/plain": [
       "   country  year  quantity  category\n",
       "0  Austria  1996       5.0         1\n",
       "1  Austria  1995      17.0         1\n",
       "2  Belgium  2014       0.0         1\n",
       "3  Belgium  2013       0.0         1\n",
       "4  Belgium  2012      35.0         1"
      ]
     },
     "execution_count": 2,
     "metadata": {},
     "output_type": "execute_result"
    }
   ],
   "source": [
    "import pandas as pd\n",
    "\n",
    "powers = pd.read_csv('power.csv')\n",
    "powers.head()"
   ]
  },
  {
   "cell_type": "code",
   "execution_count": 3,
   "metadata": {},
   "outputs": [
    {
     "data": {
      "text/plain": [
       "array(['Estonia', 'State of Palestine', 'Timor-Leste'], dtype=object)"
      ]
     },
     "execution_count": 3,
     "metadata": {},
     "output_type": "execute_result"
    }
   ],
   "source": [
    "powers['country'].unique()\n",
    "powers[ powers['country'].str.contains('est', case=False) ]['country'].unique()"
   ]
  },
  {
   "cell_type": "code",
   "execution_count": 4,
   "metadata": {},
   "outputs": [
    {
     "name": "stdout",
     "output_type": "stream",
     "text": [
      "           country  year  quantity  category\n",
      "373      Lithuania  2014      39.0         1\n",
      "374      Lithuania  2013     192.0         1\n",
      "375      Lithuania  2012     196.0         1\n",
      "376      Lithuania  2011     171.0         1\n",
      "377      Lithuania  2010     158.0         1\n",
      "...            ...   ...       ...       ...\n",
      "1188862  Lithuania  2003       0.0        71\n",
      "1188863  Lithuania  2002       0.0        71\n",
      "1188864  Lithuania  2001       0.0        71\n",
      "1188865  Lithuania  2000       0.0        71\n",
      "1188866  Lithuania  1999       0.0        71\n",
      "\n",
      "[27306 rows x 4 columns]\n"
     ]
    }
   ],
   "source": [
    "Latv_lit_Est = powers[ (powers['country']== 'Lithuania')| (powers['country']== 'Latvia') | (powers['country']== 'Estonia')]\n",
    "print(Latv_lit_Est)"
   ]
  },
  {
   "cell_type": "code",
   "execution_count": 17,
   "metadata": {},
   "outputs": [
    {
     "name": "stdout",
     "output_type": "stream",
     "text": [
      "          country  year  quantity  category\n",
      "10617     Estonia  2008       1.0         4\n",
      "11156   Lithuania  2008       1.0         4\n",
      "11158   Lithuania  2006       1.0         4\n",
      "12755     Estonia  2008       1.0         4\n",
      "13294   Lithuania  2008       1.0         4\n",
      "...           ...   ...       ...       ...\n",
      "253966     Latvia  2006      27.0        21\n",
      "253982  Lithuania  2009      98.0        21\n",
      "253983  Lithuania  2008      54.0        21\n",
      "253984  Lithuania  2007      47.0        21\n",
      "253985  Lithuania  2006      31.0        21\n",
      "\n",
      "[238 rows x 4 columns]\n"
     ]
    }
   ],
   "source": [
    "Filtered_table = Latv_lit_Est.query('year > 2005 and year < 2010 and quantity > 0 and \\\n",
    "(category == 4 or category == 12 or category == 21)')\n",
    "\n",
    "print(Filtered_table)"
   ]
  },
  {
   "cell_type": "code",
   "execution_count": 23,
   "metadata": {},
   "outputs": [],
   "source": [
    "df = pd.read_html('http://www.fortrader.org/quotes')[2]\n",
    "# https://fortrader.org/quotes"
   ]
  },
  {
   "cell_type": "code",
   "execution_count": 24,
   "metadata": {},
   "outputs": [
    {
     "name": "stdout",
     "output_type": "stream",
     "text": [
      "                      Название       Цена   Изменение Изменение(%)  Обновлено\n",
      "0      Серебро Цена на серебро    17.4090      +0.007       +0.040        NaN\n",
      "1    Палладий Цена на Палладий  1949.8500  нет данных   нет данных        NaN\n",
      "2  Золото Цена золота на бирже  1688.2000        -0.8         -0.0        NaN\n",
      "3      Платина Цены на платину   831.3000        -3.2         -0.4        NaN\n",
      "4      Медь Цена меди на бирже     2.4575     -0.0845      -3.3242        NaN\n"
     ]
    }
   ],
   "source": [
    "print(df)"
   ]
  },
  {
   "cell_type": "code",
   "execution_count": null,
   "metadata": {},
   "outputs": [],
   "source": []
  }
 ],
 "metadata": {
  "kernelspec": {
   "display_name": "Python 3",
   "language": "python",
   "name": "python3"
  },
  "language_info": {
   "codemirror_mode": {
    "name": "ipython",
    "version": 3
   },
   "file_extension": ".py",
   "mimetype": "text/x-python",
   "name": "python",
   "nbconvert_exporter": "python",
   "pygments_lexer": "ipython3",
   "version": "3.7.6"
  }
 },
 "nbformat": 4,
 "nbformat_minor": 4
}
