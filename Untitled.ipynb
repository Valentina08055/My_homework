{
 "cells": [
  {
   "cell_type": "code",
   "execution_count": null,
   "metadata": {},
   "outputs": [],
   "source": [
    "# Задача 1. Дано слово из латинских букв. Напишите скрипт,\n",
    "# который выводит на экран букву из середины слова (если число букв нечетное).\n",
    "# Если букв четное число, то на экран выводятся две буквы из середины.\n",
    "\n",
    "# Пример: для 'test' должно выводится 'es', для 'testing' - 't'\n"
   ]
  },
  {
   "cell_type": "code",
   "execution_count": 13,
   "metadata": {},
   "outputs": [
    {
     "name": "stdout",
     "output_type": "stream",
     "text": [
      "sd\n"
     ]
    }
   ],
   "source": [
    "str = 'ltswksdfgddj'\n",
    "begin_even = len(str)//2-1\n",
    "end_even = len(str)//2+1\n",
    "begin_odd = len(str)//2\n",
    "\n",
    "if len(str)%2 == 0:\n",
    "    print(str[begin_even:end_even])\n",
    "else:\n",
    "    print(str[begin_odd])\n"
   ]
  },
  {
   "cell_type": "code",
   "execution_count": null,
   "metadata": {},
   "outputs": [],
   "source": [
    "# Задача 2. Мы делаем MVP dating-сервиса, и у нас есть список парней и девушек\n",
    "# (их число может варьироваться):\n",
    "# boys = ['Peter', 'Alex', 'John', 'Arthur', 'Richard']\n",
    "# girls = ['Kate', 'Liza', 'Kira', 'Emma', 'Trisha']\n",
    "\n",
    "# Выдвигаем гипотезу: лучшие рекомендации мы получим, если просто отсортируем имена по алфавиту\n",
    "# и познакомим людей с одинаковыми индексами после сортировки!\n",
    "# \"Познакомить\" пары нам поможет функция zip, а в цикле распакуем zip-объект и выведем информацию в виде:\n",
    "\n",
    "# Идеальные пары:\n",
    "# Alex и Emma\n",
    "# Arthur и Kate\n",
    "# John и Kira\n",
    "# Peter и Liza\n",
    "# Richard и Trisha\n",
    "\n",
    "# Внимание! Если количество людей в списках будет не совпадать,\n",
    "# то мы никого знакомить не будет и выведем пользователю предупреждение, что кто-то может остаться без пары!\n"
   ]
  },
  {
   "cell_type": "code",
   "execution_count": 16,
   "metadata": {},
   "outputs": [
    {
     "name": "stdout",
     "output_type": "stream",
     "text": [
      "Идеальные пары:\n",
      "Alex и Emma\n",
      "Arthur и Kate\n",
      "John и Kira\n",
      "Peter и Liza\n",
      "Richard и Trisha\n"
     ]
    }
   ],
   "source": [
    "boys = ['Peter', 'Alex', 'John', 'Arthur', 'Richard']\n",
    "girls = ['Kate', 'Liza', 'Kira', 'Emma', 'Trisha']\n",
    "if len(boys)!= len(girls):\n",
    "    print(\"Кто-то может остаться без пары!\")\n",
    "else:\n",
    "    boys_abc = sorted(boys)\n",
    "    girls_abc = sorted(girls)\n",
    "    boys_and_girls = list(zip(boys_abc,girls_abc))\n",
    "    print('Идеальные пары:')\n",
    "    for pairs in boys_and_girls:\n",
    "        print(pairs[0],'и',pairs[1])"
   ]
  },
  {
   "cell_type": "code",
   "execution_count": null,
   "metadata": {},
   "outputs": [],
   "source": [
    "# Задача 3. У нас есть список, содержащий информацию о среднедневной температуре\n",
    "# в Фаренгейтах за недельный период по странам. Необходимо написать код,\n",
    "# который рассчитает среднюю температуру за неделю в Цельсиях для каждой страны."
   ]
  },
  {
   "cell_type": "code",
   "execution_count": 19,
   "metadata": {},
   "outputs": [
    {
     "name": "stdout",
     "output_type": "stream",
     "text": [
      "Thailand 41 градуса Цельсия\n",
      "Germany 23 градуса Цельсия\n",
      "Russia 5 градуса Цельсия\n",
      "Poland 20 градуса Цельсия\n"
     ]
    }
   ],
   "source": [
    "countries_temperature = [\n",
    " ['Thailand', [75.2, 77, 78.8, 73.4, 68, 75.2, 77]],\n",
    " ['Germany', [57.2, 55.4, 59, 59, 53.6, 55.4, 57.2]],\n",
    " ['Russia', [35.6, 37.4, 39.2, 41, 42.8, 39.2, 35.6]],\n",
    " ['Poland', [50, 50, 53.6, 57.2, 55.4, 55.4, 51.8]],\n",
    "]\n",
    "for country in countries_temperature:\n",
    "    len_list = len(country[1])\n",
    "    list_temp = list(country[1])\n",
    "    sum_list = sum(list_temp)\n",
    "    print((country[0]),(round(sum_list/len_list -33.8)),'градуса Цельсия')"
   ]
  },
  {
   "cell_type": "code",
   "execution_count": null,
   "metadata": {},
   "outputs": [],
   "source": [
    "# Задача 4. Дан поток логов по количеству просмотренных страниц для каждого пользователя.\n",
    "# Список отсортирован по ID пользователя. Вам необходимо написать алгоритм,\n",
    "# который считает среднее значение просмотров на пользователя. \n",
    "# Т. е. надо посчитать отношение суммы всех просмотров к количеству уникальных пользователей."
   ]
  },
  {
   "cell_type": "code",
   "execution_count": 21,
   "metadata": {},
   "outputs": [
    {
     "name": "stdout",
     "output_type": "stream",
     "text": [
      "Среднее значение просмотров на пользователя = 23.25\n"
     ]
    }
   ],
   "source": [
    "stream = [\n",
    "    '2018-01-01,user1,3',\n",
    "    '2018-01-07,user1,4',\n",
    "    '2018-03-29,user1,1',\n",
    "    '2018-04-04,user1,13',\n",
    "    '2018-01-05,user2,7',\n",
    "    '2018-06-14,user3,4',\n",
    "    '2018-07-02,user3,10',\n",
    "    '2018-03-21,user4,19',\n",
    "    '2018-03-22,user4,4',\n",
    "    '2018-04-22,user4,8',\n",
    "    '2018-05-03,user4,9',\n",
    "    '2018-05-11,user4,11',\n",
    "]\n",
    "new_list = []\n",
    "user_list = []\n",
    "views = 0\n",
    "for i in stream:\n",
    "    new_list.append(i.split(','))\n",
    "for user in new_list:\n",
    "    views += int(user[2])\n",
    "    if user[1] not in user_list:\n",
    "        user_list.append(user[1])\n",
    "print('Среднее значение просмотров на пользователя =',views/len(user_list))"
   ]
  },
  {
   "cell_type": "code",
   "execution_count": null,
   "metadata": {},
   "outputs": [],
   "source": [
    "# Задача 5. Дана статистика рекламных кампаний по дням. Напишите алгоритм,\n",
    "# который по паре дата-кампания ищет значение численного столбца.\n",
    "# Т. е. для даты '2018-01-01' и 'google' нужно получить число 25.\n",
    "# Считайте, что все комбинации дата-кампания уникальны."
   ]
  },
  {
   "cell_type": "code",
   "execution_count": 25,
   "metadata": {},
   "outputs": [
    {
     "name": "stdout",
     "output_type": "stream",
     "text": [
      "Введите компанию:google\n",
      "Введите дату:2018-01-03\n",
      "1843\n"
     ]
    }
   ],
   "source": [
    "stats = [\n",
    "    ['2018-01-01', 'google', 25],\n",
    "    ['2018-01-01', 'yandex', 65],\n",
    "    ['2018-01-01', 'market', 89],\n",
    "    ['2018-01-02', 'google', 574],\n",
    "    ['2018-01-02', 'yandex', 249],\n",
    "    ['2018-01-02', 'market', 994],\n",
    "    ['2018-01-03', 'google', 1843],\n",
    "    ['2018-01-03', 'yandex', 1327],\n",
    "    ['2018-01-03', 'market', 1764],\n",
    "]\n",
    "\n",
    "\n",
    "company = input(\"Введите компанию:\")\n",
    "date = input(\"Введите дату:\")\n",
    "\n",
    "i = 0\n",
    "for i, item in enumerate(stats):\n",
    "    if date == stats[i][0] and company == stats[i][1]:\n",
    "        elements = stats[i][2]\n",
    "        print(elements)"
   ]
  },
  {
   "cell_type": "code",
   "execution_count": null,
   "metadata": {},
   "outputs": [],
   "source": [
    "# Задача 6. Дан список вида:\n",
    "\n",
    "# data = [\n",
    "#     [13, 25, 23, 34],\n",
    "#     [45, 32, 44, 47],\n",
    "#     [12, 33, 23, 95],\n",
    "#     [13, 53, 34, 35]\n",
    "# ]\n",
    "\n",
    "# Напишите код, который будет вычислять сумму элементов на диагонали. Т. е. 13+32+23+35.\n",
    "# Список может быть любой длины, но всегда является \"квадратным\"\n",
    "# (количество элементов во вложенных списках равно их количеству)."
   ]
  },
  {
   "cell_type": "code",
   "execution_count": 22,
   "metadata": {},
   "outputs": [
    {
     "name": "stdout",
     "output_type": "stream",
     "text": [
      "103\n"
     ]
    }
   ],
   "source": [
    "data = [\n",
    "    [13, 25, 23, 34],\n",
    "    [45, 32, 44, 47],\n",
    "    [12, 33, 23, 95],\n",
    "    [13, 53, 34, 35]\n",
    "]\n",
    "\n",
    "sm = 0\n",
    "i = 0\n",
    "for i, item in enumerate (data):\n",
    "    sm += data[i][i]\n",
    "print(sm)"
   ]
  },
  {
   "cell_type": "code",
   "execution_count": 6,
   "metadata": {},
   "outputs": [
    {
     "name": "stdout",
     "output_type": "stream",
     "text": [
      "Введите количество строк для вывода:3\n",
      "user_id,source\n",
      "\n",
      "6450655ae8,other\n",
      "\n",
      "b4ea53e670,other\n",
      "\n"
     ]
    }
   ],
   "source": [
    "N = int(input(\"Введите количество строк для вывода:\"))\n",
    "i = 0\n",
    "f = open('visit_log.csv', 'r')\n",
    "for line in f:\n",
    "    print(line)\n",
    "    i += 1 \n",
    "    if i == N:\n",
    "        break"
   ]
  },
  {
   "cell_type": "code",
   "execution_count": 26,
   "metadata": {},
   "outputs": [
    {
     "ename": "NameError",
     "evalue": "name 'json' is not defined",
     "output_type": "error",
     "traceback": [
      "\u001b[1;31m---------------------------------------------------------------------------\u001b[0m",
      "\u001b[1;31mNameError\u001b[0m                                 Traceback (most recent call last)",
      "\u001b[1;32m<ipython-input-26-8b48334b3fb4>\u001b[0m in \u001b[0;36m<module>\u001b[1;34m\u001b[0m\n\u001b[0;32m      4\u001b[0m         \u001b[0mline\u001b[0m \u001b[1;33m=\u001b[0m \u001b[0mline\u001b[0m\u001b[1;33m.\u001b[0m\u001b[0mstrip\u001b[0m\u001b[1;33m(\u001b[0m\u001b[1;33m)\u001b[0m\u001b[1;33m\u001b[0m\u001b[1;33m\u001b[0m\u001b[0m\n\u001b[0;32m      5\u001b[0m \u001b[1;33m\u001b[0m\u001b[0m\n\u001b[1;32m----> 6\u001b[1;33m         \u001b[0mdict_\u001b[0m \u001b[1;33m=\u001b[0m \u001b[0mjson\u001b[0m\u001b[1;33m.\u001b[0m\u001b[0mloads\u001b[0m\u001b[1;33m(\u001b[0m\u001b[0mline\u001b[0m\u001b[1;33m)\u001b[0m\u001b[1;33m\u001b[0m\u001b[1;33m\u001b[0m\u001b[0m\n\u001b[0m\u001b[0;32m      7\u001b[0m         \u001b[0mprint\u001b[0m\u001b[1;33m(\u001b[0m\u001b[0mdict_\u001b[0m\u001b[1;33m,\u001b[0m \u001b[0mtype\u001b[0m\u001b[1;33m(\u001b[0m\u001b[0mdict_\u001b[0m\u001b[1;33m)\u001b[0m\u001b[1;33m)\u001b[0m\u001b[1;33m\u001b[0m\u001b[1;33m\u001b[0m\u001b[0m\n\u001b[0;32m      8\u001b[0m \u001b[1;33m\u001b[0m\u001b[0m\n",
      "\u001b[1;31mNameError\u001b[0m: name 'json' is not defined"
     ]
    }
   ],
   "source": [
    "i = 0\n",
    "with open('purchase_log.txt','r') as f:\n",
    "    for line in f:\n",
    "        line = line.strip()\n",
    "        \n",
    "        dict_ = json.loads(line)\n",
    "        print(dict_, type(dict_))\n",
    "        \n",
    "        i += 1\n",
    "        if i > 5:\n",
    "            break"
   ]
  }
 ],
 "metadata": {
  "kernelspec": {
   "display_name": "Python 3",
   "language": "python",
   "name": "python3"
  },
  "language_info": {
   "codemirror_mode": {
    "name": "ipython",
    "version": 3
   },
   "file_extension": ".py",
   "mimetype": "text/x-python",
   "name": "python",
   "nbconvert_exporter": "python",
   "pygments_lexer": "ipython3",
   "version": "3.7.6"
  }
 },
 "nbformat": 4,
 "nbformat_minor": 4
}
