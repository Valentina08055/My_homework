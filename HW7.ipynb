{
 "cells": [
  {
   "cell_type": "code",
   "execution_count": null,
   "metadata": {},
   "outputs": [],
   "source": [
    "Задание 1\n",
    "Напишите функцию date_range, которая возвращает список дней между датами start_date и end_date. \n",
    "Даты должны вводиться в формате YYYY-MM-DD.\n",
    "\n",
    "Задание 2\n",
    "Дополните функцию из первого задания проверкой на корректность дат. В случае неверного формата\n",
    "или если start_date > end_date должен возвращаться пустой список.\n"
   ]
  },
  {
   "cell_type": "code",
   "execution_count": null,
   "metadata": {},
   "outputs": [],
   "source": [
    "def date_delta(start_date,end_date):\n",
    "    \n",
    "    from datetime import datetime, timedelta\n",
    "\n",
    "    date_list = []\n",
    "    x = []\n",
    "    start_date = datetime(2003,8,1,12,4,5)\n",
    "    end_date = datetime(2003,8,11,12,4,5)\n",
    "\n",
    "    one_day = timedelta(1)\n",
    "    \n",
    "    if start_date > end_date:\n",
    "        print('Дата начала больше даты окончания')\n",
    "    else:\n",
    "        \n",
    "        while start_date < end_date - one_day:\n",
    "  \n",
    "\n",
    "            start_date += timedelta(days=1)\n",
    "            date_list.append(start_date)\n",
    "            print(start_date.strftime('%Y-%m-%d'))"
   ]
  },
  {
   "cell_type": "code",
   "execution_count": null,
   "metadata": {},
   "outputs": [],
   "source": [
    "date_delta(start_date,end_date)"
   ]
  },
  {
   "cell_type": "code",
   "execution_count": null,
   "metadata": {},
   "outputs": [],
   "source": [
    "Задание 3\n",
    "Дан поток дат в формате YYYY-MM-DD, в которых встречаются некорректные значения:\n",
    "stream = [‘2018-04-02’, ‘2018-02-29’, ‘2018-19-02’]\n",
    "Напишите функцию, которая проверяет эти даты на корректность. Т. е. для каждой даты возвращает \n",
    "True (дата корректна) или False (некорректная дата).\n"
   ]
  },
  {
   "cell_type": "code",
   "execution_count": null,
   "metadata": {},
   "outputs": [],
   "source": [
    "import time\n",
    "\n",
    "def check_date():\n",
    "    \n",
    "    stream = ['2018-04-02', '2018-02-29', '2018-19-02']\n",
    "\n",
    "    for i in stream:\n",
    "        try:\n",
    "            valid_date = time.strptime(i,'%Y-%m-%d')\n",
    "            print(True)\n",
    " \n",
    "        except ValueError:\n",
    "            print(False)"
   ]
  },
  {
   "cell_type": "code",
   "execution_count": null,
   "metadata": {},
   "outputs": [],
   "source": [
    "check_date()"
   ]
  }
 ],
 "metadata": {
  "kernelspec": {
   "display_name": "Python 3",
   "language": "python",
   "name": "python3"
  },
  "language_info": {
   "codemirror_mode": {
    "name": "ipython",
    "version": 3
   },
   "file_extension": ".py",
   "mimetype": "text/x-python",
   "name": "python",
   "nbconvert_exporter": "python",
   "pygments_lexer": "ipython3",
   "version": "3.7.6"
  }
 },
 "nbformat": 4,
 "nbformat_minor": 4
}
