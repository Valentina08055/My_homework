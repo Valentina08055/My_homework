{
 "cells": [
  {
   "cell_type": "code",
   "execution_count": null,
   "metadata": {},
   "outputs": [],
   "source": [
    "Задание 1\n",
    "Напишите функцию date_range, которая возвращает список дней между датами start_date и end_date. \n",
    "Даты должны вводиться в формате YYYY-MM-DD.\n",
    "\n",
    "Задание 2\n",
    "Дополните функцию из первого задания проверкой на корректность дат. В случае неверного формата\n",
    "или если start_date > end_date должен возвращаться пустой список.\n"
   ]
  },
  {
   "cell_type": "code",
   "execution_count": 6,
   "metadata": {},
   "outputs": [],
   "source": [
    "from datetime import datetime, timedelta\n",
    "\n",
    "def date_delta(start_date,end_date):\n",
    "\n",
    "    date_list = []\n",
    "    x = []\n",
    "\n",
    "    start_date = input(\"Введите дату начала в формате YYYY-MM-DD\")\n",
    "    start_dat = datetime.strptime(start_date,'%Y-%m-%d')\n",
    "    end_date = input(\"Введите дату окончания в формате YYYY-MM-DD\")\n",
    "    end_dat = datetime.strptime(end_date,'%Y-%m-%d')+ timedelta(days=-1)\n",
    "\n",
    "#     one_day = timedelta(1)\n",
    "    \n",
    "    if start_dat > end_dat:\n",
    "        print('Дата начала больше даты окончания')\n",
    "    else:\n",
    "        while start_dat < end_dat:\n",
    "  \n",
    "            start_dat += timedelta(days=1)\n",
    "            date_list.append(start_dat)\n",
    "            print(start_dat.strftime('%Y-%m-%d'))"
   ]
  },
  {
   "cell_type": "code",
   "execution_count": 7,
   "metadata": {},
   "outputs": [
    {
     "ename": "NameError",
     "evalue": "name 'start_date' is not defined",
     "output_type": "error",
     "traceback": [
      "\u001b[1;31m---------------------------------------------------------------------------\u001b[0m",
      "\u001b[1;31mNameError\u001b[0m                                 Traceback (most recent call last)",
      "\u001b[1;32m<ipython-input-7-4b17b6fdd426>\u001b[0m in \u001b[0;36m<module>\u001b[1;34m\u001b[0m\n\u001b[1;32m----> 1\u001b[1;33m \u001b[0mdate_delta\u001b[0m\u001b[1;33m(\u001b[0m\u001b[0mstart_date\u001b[0m\u001b[1;33m,\u001b[0m\u001b[0mend_date\u001b[0m\u001b[1;33m)\u001b[0m\u001b[1;33m\u001b[0m\u001b[1;33m\u001b[0m\u001b[0m\n\u001b[0m",
      "\u001b[1;31mNameError\u001b[0m: name 'start_date' is not defined"
     ]
    }
   ],
   "source": [
    "date_delta(start_date,end_date)"
   ]
  },
  {
   "cell_type": "code",
   "execution_count": null,
   "metadata": {},
   "outputs": [],
   "source": [
    "Задание 3\n",
    "Дан поток дат в формате YYYY-MM-DD, в которых встречаются некорректные значения:\n",
    "stream = [‘2018-04-02’, ‘2018-02-29’, ‘2018-19-02’]\n",
    "Напишите функцию, которая проверяет эти даты на корректность. Т. е. для каждой даты возвращает \n",
    "True (дата корректна) или False (некорректная дата).\n"
   ]
  },
  {
   "cell_type": "code",
   "execution_count": null,
   "metadata": {},
   "outputs": [],
   "source": [
    "import time\n",
    "\n",
    "stream = ['2018-04-02', '2018-02-29', '2018-19-02']\n",
    "\n",
    "for i in stream:\n",
    "    try:\n",
    "        valid_date = time.strptime(i,'%Y-%m-%d')\n",
    "        print(i)\n",
    "    except ValueError:\n",
    "        print('Invalid date!')"
   ]
  }
 ],
 "metadata": {
  "kernelspec": {
   "display_name": "Python 3",
   "language": "python",
   "name": "python3"
  },
  "language_info": {
   "codemirror_mode": {
    "name": "ipython",
    "version": 3
   },
   "file_extension": ".py",
   "mimetype": "text/x-python",
   "name": "python",
   "nbconvert_exporter": "python",
   "pygments_lexer": "ipython3",
   "version": "3.7.6"
  }
 },
 "nbformat": 4,
 "nbformat_minor": 4
}
