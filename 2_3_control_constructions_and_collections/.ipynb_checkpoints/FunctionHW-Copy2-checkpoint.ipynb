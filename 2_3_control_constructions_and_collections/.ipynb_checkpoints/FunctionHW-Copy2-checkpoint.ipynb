{
 "cells": [
  {
   "cell_type": "code",
   "execution_count": null,
   "metadata": {},
   "outputs": [],
   "source": [
    "p – people – команда, которая спросит номер документа и выведет имя человека, которому он принадлежит;"
   ]
  },
  {
   "cell_type": "code",
   "execution_count": 22,
   "metadata": {},
   "outputs": [],
   "source": [
    "documents = [\n",
    "    {'type': 'passport', 'number': '2207 876234', 'name': 'Василий Гупкин'},\n",
    "    {'type': 'invoice', 'number': '11-2', 'name': 'Геннадий Покемонов'},\n",
    "    {'type': 'insurance', 'number': '10006', 'name': 'Аристарх Павлов'}\n",
    "]\n",
    "\n",
    "def people (number_input):\n",
    "    number_input = input(\"Введите номер документа:\")\n",
    "\n",
    "    for i in documents:\n",
    "        if number_input == i['number']:\n",
    "            print(i['name'])\n"
   ]
  },
  {
   "cell_type": "code",
   "execution_count": 23,
   "metadata": {},
   "outputs": [
    {
     "name": "stdout",
     "output_type": "stream",
     "text": [
      "Введите номер документа:11-2\n",
      "Геннадий Покемонов\n"
     ]
    }
   ],
   "source": [
    "people(documents)"
   ]
  },
  {
   "cell_type": "code",
   "execution_count": null,
   "metadata": {},
   "outputs": [],
   "source": [
    "s – shelf – команда, которая спросит номер документа и выведет номер полки, на которой он находится\n",
    "Правильно обработайте ситуации, когда пользователь будет вводить несуществующий документ."
   ]
  },
  {
   "cell_type": "code",
   "execution_count": 53,
   "metadata": {},
   "outputs": [],
   "source": [
    "directories = {\n",
    "    '1': ['2207 876234', '11-2'],\n",
    "    '2': ['10006'],\n",
    "    '3': []\n",
    "}\n",
    "\n",
    "\n",
    "def shelf():\n",
    "    number_input = input(\"Введите номер документа:\")\n",
    "\n",
    "    check_list = []\n",
    "    for j in directories.values():\n",
    "        for el in j:\n",
    "            check_list.append(el)\n",
    "\n",
    "    if number_input not in check_list:\n",
    "        print(\"Такого документа не существует!\")  \n",
    "        \n",
    "    for i in directories.items():\n",
    "        for element in i:\n",
    "            if number_input in element:\n",
    "                print(\"Полка №\",i[0])"
   ]
  },
  {
   "cell_type": "code",
   "execution_count": 54,
   "metadata": {},
   "outputs": [
    {
     "name": "stdout",
     "output_type": "stream",
     "text": [
      "Введите номер документа:100\n",
      "Такого документа не существует!\n"
     ]
    }
   ],
   "source": [
    "shelf()"
   ]
  },
  {
   "cell_type": "code",
   "execution_count": null,
   "metadata": {},
   "outputs": [],
   "source": [
    "l – list – команда, которая выведет список всех документов в формате\n",
    "passport \"2207 876234\" \"Василий Гупкин\""
   ]
  },
  {
   "cell_type": "code",
   "execution_count": 34,
   "metadata": {},
   "outputs": [],
   "source": [
    "def l(documents):\n",
    "    for i in documents:\n",
    "        print(f'{i[\"type\"]} \\\"{i[\"number\"]}\\\" \\'{i[\"name\"]}\\'')"
   ]
  },
  {
   "cell_type": "code",
   "execution_count": 36,
   "metadata": {},
   "outputs": [
    {
     "name": "stdout",
     "output_type": "stream",
     "text": [
      "passport \"2207 876234\" 'Василий Гупкин'\n",
      "invoice \"11-2\" 'Геннадий Покемонов'\n",
      "insurance \"10006\" 'Аристарх Павлов'\n"
     ]
    }
   ],
   "source": [
    "l(documents)"
   ]
  },
  {
   "cell_type": "code",
   "execution_count": null,
   "metadata": {},
   "outputs": [],
   "source": [
    "as – add shelf – команда, которая спросит номер новой полки и добавит ее в перечень.\n",
    "Предусмотрите случай, когда пользователь добавляет полку, которая уже существует."
   ]
  },
  {
   "cell_type": "code",
   "execution_count": 56,
   "metadata": {},
   "outputs": [
    {
     "name": "stdout",
     "output_type": "stream",
     "text": [
      "Введите новую полку:5\n",
      "{'1': ['2207 876234', '11-2'], '2': ['10006'], '3': [], '5': []}\n"
     ]
    }
   ],
   "source": [
    "directories = {\n",
    "    '1': ['2207 876234', '11-2'],\n",
    "    '2': ['10006'],\n",
    "    '3': []\n",
    "}\n",
    "\n",
    "input_new_shelf = input(\"Введите новую полку:\")\n",
    "\n",
    "if input_new_shelf in directories:   \n",
    "    print(\"Такая полка уже есть\")\n",
    "else:\n",
    "    directories[input_new_shelf] = []\n",
    "print(directories)\n",
    "    "
   ]
  },
  {
   "cell_type": "code",
   "execution_count": null,
   "metadata": {},
   "outputs": [],
   "source": [
    "d – delete – команда, которая спросит номер документа и удалит его из каталога и из перечня полок.\n",
    "Предусмотрите сценарий, когда пользователь вводит несуществующий документ;"
   ]
  },
  {
   "cell_type": "code",
   "execution_count": 20,
   "metadata": {},
   "outputs": [
    {
     "name": "stdout",
     "output_type": "stream",
     "text": [
      "{'1': ['2207 876234', '11-2'], '2': ['10006'], '3': []}\n"
     ]
    }
   ],
   "source": [
    "directories = {\n",
    "    '1': ['2207 876234', '11-2'],\n",
    "    '2': ['10006'],\n",
    "    '3': []\n",
    "}\n",
    "\n",
    "def d():\n",
    "    delete_doc = input(\"Введите номер документа для удаления:\")\n",
    "\n",
    "    for i in directories.items():\n",
    "        for element in i:\n",
    "            if delete_doc in element:\n",
    "                element.remove(delete_doc)\n",
    "                return directories\n",
    "                \n",
    "print(directories)"
   ]
  },
  {
   "cell_type": "code",
   "execution_count": 21,
   "metadata": {},
   "outputs": [
    {
     "name": "stdout",
     "output_type": "stream",
     "text": [
      "Введите номер документа для удаления:10006\n"
     ]
    },
    {
     "data": {
      "text/plain": [
       "{'1': ['2207 876234', '11-2'], '2': [], '3': []}"
      ]
     },
     "execution_count": 21,
     "metadata": {},
     "output_type": "execute_result"
    }
   ],
   "source": [
    "d()"
   ]
  },
  {
   "cell_type": "code",
   "execution_count": null,
   "metadata": {},
   "outputs": [],
   "source": [
    "directories = {\n",
    "        '1': ['2207 876234', '11-2'],\n",
    "        '2': ['10006'],\n",
    "        '3': []\n",
    "    }\n",
    "\n",
    "def check_shelf():\n",
    "    input_new_shelf = input(\"Введите новую полку:\")\n",
    "\n",
    "    if input_new_shelf in directories:   \n",
    "        print(\"Такая полка уже есть\")"
   ]
  },
  {
   "cell_type": "code",
   "execution_count": null,
   "metadata": {},
   "outputs": [],
   "source": [
    "check_shelf()"
   ]
  },
  {
   "cell_type": "code",
   "execution_count": null,
   "metadata": {},
   "outputs": [],
   "source": [
    "m – move – команда, которая спросит номер документа и целевую полку и \n",
    "переместит его с текущей полки на целевую. Корректно обработайте кейсы,\n",
    "когда пользователь пытается переместить несуществующий документ или \n",
    "переместить документ на несуществующую полку;"
   ]
  },
  {
   "cell_type": "code",
   "execution_count": 10,
   "metadata": {},
   "outputs": [],
   "source": [
    "def m():\n",
    "\n",
    "    directories = {\n",
    "            '1': ['2207 876234', '11-2'],\n",
    "            '2': ['10006'],\n",
    "            '3': []\n",
    "        }\n",
    "\n",
    "    check_list = []\n",
    "    for i in directories.values():\n",
    "        for el in i:\n",
    "            check_list.append(el)\n",
    "    remove_doc = input(\"Введите номер документа для перемещения:\")\n",
    "    new_shelf = input(\"Введите номер полки, на которую нужно переместить документ\")\n",
    "\n",
    "    if new_shelf in directories:   \n",
    "        print(\"Такая полка уже есть\")\n",
    "        \n",
    "    if remove_doc not in check_list:\n",
    "        print(\"Такого документа не существует\")\n",
    "    else:\n",
    "        for i in directories.items():\n",
    "            for el in i:\n",
    "                if remove_doc in el:\n",
    "                    el.remove(remove_doc)  \n",
    "        directories[new_shelf].append(remove_doc)\n",
    "        directories\n",
    "        print(directories)"
   ]
  },
  {
   "cell_type": "code",
   "execution_count": 11,
   "metadata": {},
   "outputs": [
    {
     "name": "stdout",
     "output_type": "stream",
     "text": [
      "Введите номер документа для перемещения:10006\n",
      "Введите номер полки, на которую нужно переместить документ2\n",
      "Такая полка уже есть\n",
      "{'1': ['2207 876234', '11-2'], '2': ['10006'], '3': []}\n"
     ]
    }
   ],
   "source": [
    "m()"
   ]
  },
  {
   "cell_type": "code",
   "execution_count": null,
   "metadata": {},
   "outputs": [],
   "source": [
    "a – add – команда, которая добавит новый документ в каталог и в перечень полок,\n",
    "спросив его номер, тип, имя владельца и номер полки, на котором он будет храниться.\n",
    "Корректно обработайте ситуацию, когда пользователь будет пытаться добавить документ на несуществующую полку."
   ]
  },
  {
   "cell_type": "code",
   "execution_count": null,
   "metadata": {},
   "outputs": [],
   "source": [
    "documents = [\n",
    "    {'type': 'passport', 'number': '2207 876234', 'name': 'Василий Гупкин'},\n",
    "    {'type': 'invoice', 'number': '11-2', 'name': 'Геннадий Покемонов'},\n",
    "    {'type': 'insurance', 'number': '10006', 'name': 'Аристарх Павлов'}\n",
    " ]\n",
    "\n",
    "directories = {\n",
    "        '1': ['2207 876234', '11-2'],\n",
    "        '2': ['10006'],\n",
    "        '3': []\n",
    "    }\n",
    "\n",
    "def a():\n",
    "    doc_number = input(\"Введите номер документа для добавления: \")\n",
    "    documents_owner = input(\"Введите имя владельца документа: \")\n",
    "    document_type = input(str(\"Введите тип документа: \"))\n",
    "    shelf_number = input(\"Введите номер полки хранения: \")\n",
    "    new_directory = {}\n",
    "    documents.append({'type':document_type,'number':doc_number,'name':documents_owner })\n",
    " \n",
    "\n",
    "    check_list = []\n",
    "    for i in directories.values():\n",
    "        for el in i:\n",
    "            check_list.append(el)\n",
    "\n",
    "\n",
    "    if doc_number in check_list:\n",
    "        print(\"ооо\")\n",
    "    else:\n",
    "        for i in directories.items():\n",
    "            for el in i:\n",
    "                if doc_number in el:\n",
    "                    el.remove(doc_number)  \n",
    "    directories[shelf_number].append(doc_number)\n",
    "    directories\n",
    "\n",
    "       \n",
    "\n",
    "    print(documents)\n",
    "    print(directories)"
   ]
  }
 ],
 "metadata": {
  "kernelspec": {
   "display_name": "Python 3",
   "language": "python",
   "name": "python3"
  },
  "language_info": {
   "codemirror_mode": {
    "name": "ipython",
    "version": 3
   },
   "file_extension": ".py",
   "mimetype": "text/x-python",
   "name": "python",
   "nbconvert_exporter": "python",
   "pygments_lexer": "ipython3",
   "version": "3.7.6"
  }
 },
 "nbformat": 4,
 "nbformat_minor": 4
}
