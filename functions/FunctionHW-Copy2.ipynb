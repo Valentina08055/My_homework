{
 "cells": [
  {
   "cell_type": "code",
   "execution_count": null,
   "metadata": {},
   "outputs": [],
   "source": [
    "p – people – команда, которая спросит номер документа и выведет имя человека, которому он принадлежит;"
   ]
  },
  {
   "cell_type": "code",
   "execution_count": 1,
   "metadata": {},
   "outputs": [],
   "source": [
    "documents = [\n",
    "    {'type': 'passport', 'number': '2207 876234', 'name': 'Василий Гупкин'},\n",
    "    {'type': 'invoice', 'number': '11-2', 'name': 'Геннадий Покемонов'},\n",
    "    {'type': 'insurance', 'number': '10006', 'name': 'Аристарх Павлов'}\n",
    "]\n",
    "\n",
    "\n",
    "def person_by_doc_numder (number_input):\n",
    "    number_input = input(\"Введите номер документа:\")\n",
    "\n",
    "    check_list = []\n",
    "    for i in documents:\n",
    "        check_list.append(i['number'])\n",
    "    if number_input not in check_list:\n",
    "        print(\"Такого документа не существует\")\n",
    "    \n",
    "    for i in documents:               \n",
    "        if number_input == i['number']:\n",
    "            print(i['name'])\n"
   ]
  },
  {
   "cell_type": "code",
   "execution_count": 66,
   "metadata": {},
   "outputs": [
    {
     "name": "stdout",
     "output_type": "stream",
     "text": [
      "Введите командуp\n",
      "Введите номер документа:11-2\n",
      "Геннадий Покемонов\n"
     ]
    }
   ],
   "source": [
    "x = input(\"Введите команду: \")\n",
    "if x == \"p\":\n",
    "    person_by_doc_numder(documents)"
   ]
  },
  {
   "cell_type": "code",
   "execution_count": null,
   "metadata": {},
   "outputs": [],
   "source": [
    "s – shelf – команда, которая спросит номер документа и выведет номер полки, на которой он находится\n",
    "Правильно обработайте ситуации, когда пользователь будет вводить несуществующий документ."
   ]
  },
  {
   "cell_type": "code",
   "execution_count": 67,
   "metadata": {},
   "outputs": [],
   "source": [
    "directories = {\n",
    "    '1': ['2207 876234', '11-2'],\n",
    "    '2': ['10006'],\n",
    "    '3': []\n",
    "}\n",
    "\n",
    "\n",
    "def shelf_by_doc_number():\n",
    "    number_input = input(\"Введите номер документа:\")\n",
    "\n",
    "    check_list = []\n",
    "    for j in directories.values():\n",
    "        for el in j:\n",
    "            check_list.append(el)\n",
    "\n",
    "    if number_input not in check_list:\n",
    "        print(\"Такого документа не существует!\")  \n",
    "        \n",
    "    for i in directories.items():\n",
    "        for element in i:\n",
    "            if number_input in element:\n",
    "                print(\"Полка №\",i[0])"
   ]
  },
  {
   "cell_type": "code",
   "execution_count": 69,
   "metadata": {},
   "outputs": [
    {
     "name": "stdout",
     "output_type": "stream",
     "text": [
      "Введите командуs\n",
      "Введите номер документа:11-2\n",
      "Полка № 1\n"
     ]
    }
   ],
   "source": [
    "x = input(\"Введите команду: \")\n",
    "if x == \"s\":\n",
    "    shelf_by_doc_number()"
   ]
  },
  {
   "cell_type": "code",
   "execution_count": null,
   "metadata": {},
   "outputs": [],
   "source": [
    "l – list – команда, которая выведет список всех документов в формате\n",
    "passport \"2207 876234\" \"Василий Гупкин\""
   ]
  },
  {
   "cell_type": "code",
   "execution_count": 70,
   "metadata": {},
   "outputs": [],
   "source": [
    "def all_documents_list(documents):\n",
    "    for i in documents:\n",
    "        print(f'{i[\"type\"]} \\\"{i[\"number\"]}\\\" \\'{i[\"name\"]}\\'')"
   ]
  },
  {
   "cell_type": "code",
   "execution_count": 71,
   "metadata": {},
   "outputs": [
    {
     "name": "stdout",
     "output_type": "stream",
     "text": [
      "Введите командуl\n",
      "passport \"2207 876234\" 'Василий Гупкин'\n",
      "invoice \"11-2\" 'Геннадий Покемонов'\n",
      "insurance \"10006\" 'Аристарх Павлов'\n"
     ]
    }
   ],
   "source": [
    "x = input(\"Введите команду: \")\n",
    "if x == \"l\":\n",
    "    all_documents_list(documents)"
   ]
  },
  {
   "cell_type": "code",
   "execution_count": null,
   "metadata": {},
   "outputs": [],
   "source": [
    "as – add shelf – команда, которая спросит номер новой полки и добавит ее в перечень.\n",
    "Предусмотрите случай, когда пользователь добавляет полку, которая уже существует."
   ]
  },
  {
   "cell_type": "code",
   "execution_count": 72,
   "metadata": {},
   "outputs": [],
   "source": [
    "directories = {\n",
    "    '1': ['2207 876234', '11-2'],\n",
    "    '2': ['10006'],\n",
    "    '3': []\n",
    "}\n",
    "\n",
    "def add_new_shelf():\n",
    "    input_new_shelf = input(\"Введите новую полку:\")\n",
    "\n",
    "    if input_new_shelf in directories:   \n",
    "        print(\"Такая полка уже есть\")\n",
    "    else:\n",
    "        directories[input_new_shelf] = []\n",
    "    print(directories)\n",
    "    "
   ]
  },
  {
   "cell_type": "code",
   "execution_count": 73,
   "metadata": {},
   "outputs": [
    {
     "name": "stdout",
     "output_type": "stream",
     "text": [
      "Введите командуas\n",
      "Введите новую полку:888\n",
      "{'1': ['2207 876234', '11-2'], '2': ['10006'], '3': [], '888': []}\n"
     ]
    }
   ],
   "source": [
    "x = input(\"Введите команду: \")\n",
    "if x == \"as\":\n",
    "    add_new_shelf()"
   ]
  },
  {
   "cell_type": "code",
   "execution_count": null,
   "metadata": {},
   "outputs": [],
   "source": [
    "d – delete – команда, которая спросит номер документа и удалит его из каталога и из перечня полок.\n",
    "Предусмотрите сценарий, когда пользователь вводит несуществующий документ;"
   ]
  },
  {
   "cell_type": "code",
   "execution_count": 74,
   "metadata": {},
   "outputs": [],
   "source": [
    "directories = {\n",
    "    '1': ['2207 876234', '11-2'],\n",
    "    '2': ['10006'],\n",
    "    '3': []\n",
    "}\n",
    "\n",
    "documents = [\n",
    "    {'type': 'passport', 'number': '2207 876234', 'name': 'Василий Гупкин'},\n",
    "    {'type': 'invoice', 'number': '11-2', 'name': 'Геннадий Покемонов'},\n",
    "    {'type': 'insurance', 'number': '10006', 'name': 'Аристарх Павлов'}\n",
    " ]\n",
    "def delete_document():\n",
    "    delete_doc = input(\"Введите номер документа для удаления:\")\n",
    "\n",
    "    for i in directories.items():\n",
    "        for element in i:\n",
    "            if delete_doc in element:\n",
    "                element.remove(delete_doc)\n",
    "\n",
    "    for i in documents:\n",
    "        if i['number'] == delete_doc:\n",
    "            del(i['number'])\n",
    "                \n",
    "    return(print(directories,documents))\n"
   ]
  },
  {
   "cell_type": "code",
   "execution_count": 75,
   "metadata": {},
   "outputs": [
    {
     "name": "stdout",
     "output_type": "stream",
     "text": [
      "Введите командуd\n",
      "Введите номер документа для удаления:11-2\n",
      "{'1': ['2207 876234'], '2': ['10006'], '3': []} [{'type': 'passport', 'number': '2207 876234', 'name': 'Василий Гупкин'}, {'type': 'invoice', 'name': 'Геннадий Покемонов'}, {'type': 'insurance', 'number': '10006', 'name': 'Аристарх Павлов'}]\n"
     ]
    }
   ],
   "source": [
    "x = input(\"Введите команду: \")\n",
    "if x == \"d\":\n",
    "    delete_document()"
   ]
  },
  {
   "cell_type": "code",
   "execution_count": null,
   "metadata": {},
   "outputs": [],
   "source": [
    "m – move – команда, которая спросит номер документа и целевую полку и \n",
    "переместит его с текущей полки на целевую. Корректно обработайте кейсы,\n",
    "когда пользователь пытается переместить несуществующий документ или \n",
    "переместить документ на несуществующую полку;"
   ]
  },
  {
   "cell_type": "code",
   "execution_count": 78,
   "metadata": {},
   "outputs": [],
   "source": [
    "def move_doc_on_new_shelf():\n",
    "\n",
    "    directories = {\n",
    "            '1': ['2207 876234', '11-2'],\n",
    "            '2': ['10006'],\n",
    "            '3': []\n",
    "        }\n",
    "\n",
    "    check_list = []\n",
    "    for i in directories.values():\n",
    "        for el in i:\n",
    "            check_list.append(el)\n",
    "    remove_doc = input(\"Введите номер документа для перемещения:\")\n",
    "    new_shelf = input(\"Введите номер полки, на которую нужно переместить документ\")\n",
    "\n",
    "    if new_shelf not in directories:   \n",
    "        print(\"Такой полки нет\")\n",
    "        \n",
    "    if remove_doc not in check_list:\n",
    "        print(\"Такого документа не существует\")\n",
    "    else:\n",
    "        for i in directories.items():\n",
    "            for el in i:\n",
    "                if remove_doc in el:\n",
    "                    el.remove(remove_doc)  \n",
    "        directories[new_shelf].append(remove_doc)\n",
    "        directories\n",
    "        print(directories)"
   ]
  },
  {
   "cell_type": "code",
   "execution_count": 79,
   "metadata": {},
   "outputs": [
    {
     "name": "stdout",
     "output_type": "stream",
     "text": [
      "Введите командуm\n",
      "Введите номер документа для перемещения:11-2\n",
      "Введите номер полки, на которую нужно переместить документ3\n",
      "{'1': ['2207 876234'], '2': ['10006'], '3': ['11-2']}\n"
     ]
    }
   ],
   "source": [
    "x = input(\"Введите команду: \")\n",
    "if x == \"m\":\n",
    "    move_doc_on_new_shelf()"
   ]
  },
  {
   "cell_type": "code",
   "execution_count": null,
   "metadata": {},
   "outputs": [],
   "source": [
    "a – add – команда, которая добавит новый документ в каталог и в перечень полок,\n",
    "спросив его номер, тип, имя владельца и номер полки, на котором он будет храниться.\n",
    "Корректно обработайте ситуацию, когда пользователь будет пытаться добавить документ на несуществующую полку."
   ]
  },
  {
   "cell_type": "code",
   "execution_count": 80,
   "metadata": {},
   "outputs": [],
   "source": [
    "documents = [\n",
    "    {'type': 'passport', 'number': '2207 876234', 'name': 'Василий Гупкин'},\n",
    "    {'type': 'invoice', 'number': '11-2', 'name': 'Геннадий Покемонов'},\n",
    "    {'type': 'insurance', 'number': '10006', 'name': 'Аристарх Павлов'}\n",
    " ]\n",
    "\n",
    "directories = {\n",
    "        '1': ['2207 876234', '11-2'],\n",
    "        '2': ['10006'],\n",
    "        '3': []\n",
    "    }\n",
    "\n",
    "def add_new_document():\n",
    "    doc_number = input(\"Введите номер документа для добавления: \")\n",
    "    documents_owner = input(\"Введите имя владельца документа: \")\n",
    "    document_type = input(str(\"Введите тип документа: \"))\n",
    "    shelf_number = input(\"Введите номер полки хранения: \")\n",
    "    new_directory = {}\n",
    "    \n",
    "    check_list1 = []\n",
    "    for i in documents:\n",
    "        check_list1.append(i['number'])\n",
    "    if doc_number in check_list1:\n",
    "        pass\n",
    "    elif shelf_number not in directories:\n",
    "        pass\n",
    "    else:\n",
    "        documents.append({'type':document_type,'number':doc_number,'name':documents_owner })\n",
    " \n",
    "\n",
    "    check_list = []\n",
    "    for i in directories.values():\n",
    "        for el in i:\n",
    "            check_list.append(el)\n",
    "\n",
    "\n",
    "    if shelf_number not in directories:   \n",
    "        print(\"Такая полка не существует\")\n",
    "    elif doc_number in check_list:\n",
    "        print(\"Такой документ уже есть\")\n",
    "    else:\n",
    "        for i in directories.items():\n",
    "            for el in i:\n",
    "                if doc_number in el:\n",
    "                    el.remove(doc_number)  \n",
    "        directories[shelf_number].append(doc_number)\n",
    "        directories\n",
    "\n",
    "       \n",
    "\n",
    "    print(documents)\n",
    "    print(directories)"
   ]
  },
  {
   "cell_type": "code",
   "execution_count": 83,
   "metadata": {},
   "outputs": [
    {
     "name": "stdout",
     "output_type": "stream",
     "text": [
      "Введите команду: a\n",
      "Введите номер документа для добавления: 88888888\n",
      "Введите имя владельца документа: Appolon\n",
      "Введите тип документа: passport\n",
      "Введите номер полки хранения: 2\n",
      "[{'type': 'passport', 'number': '2207 876234', 'name': 'Василий Гупкин'}, {'type': 'invoice', 'number': '11-2', 'name': 'Геннадий Покемонов'}, {'type': 'insurance', 'number': '10006', 'name': 'Аристарх Павлов'}, {'type': 'passport', 'number': '88888888', 'name': 'Appolon'}]\n",
      "{'1': ['2207 876234', '11-2'], '2': ['10006', '88888888'], '3': []}\n"
     ]
    }
   ],
   "source": [
    "x = input(\"Введите команду: \")\n",
    "if x == \"a\":\n",
    "    add_new_document()"
   ]
  },
  {
   "cell_type": "code",
   "execution_count": null,
   "metadata": {},
   "outputs": [],
   "source": []
  }
 ],
 "metadata": {
  "kernelspec": {
   "display_name": "Python 3",
   "language": "python",
   "name": "python3"
  },
  "language_info": {
   "codemirror_mode": {
    "name": "ipython",
    "version": 3
   },
   "file_extension": ".py",
   "mimetype": "text/x-python",
   "name": "python",
   "nbconvert_exporter": "python",
   "pygments_lexer": "ipython3",
   "version": "3.7.6"
  }
 },
 "nbformat": 4,
 "nbformat_minor": 4
}
