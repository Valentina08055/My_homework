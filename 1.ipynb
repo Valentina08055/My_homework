{
 "cells": [
  {
   "cell_type": "code",
   "execution_count": 33,
   "metadata": {},
   "outputs": [
    {
     "name": "stdout",
     "output_type": "stream",
     "text": [
      "Нечетных: 6\n",
      "Четных: 2\n",
      "5\n",
      "22\n"
     ]
    }
   ],
   "source": [
    "sequence = '2 3 1 5 9 22 3 5'\n",
    "[int(x) for x in sequence.split(' ')]\n",
    "odd = 0\n",
    "even = 0\n",
    "for i in [int(x) for x in sequence.split(' ')]:\n",
    "    if i%2 != 0:\n",
    "        last_odd = i\n",
    "        odd += 1\n",
    "    else:\n",
    "        last_even = i\n",
    "        even += 1\n",
    "print('Нечетных:',odd)\n",
    "print('Четных:',even)\n",
    "print(last_odd)\n",
    "print(last_even)\n",
    "\n",
    "    "
   ]
  },
  {
   "cell_type": "code",
   "execution_count": 39,
   "metadata": {},
   "outputs": [
    {
     "data": {
      "text/plain": [
       "[2, 22]"
      ]
     },
     "execution_count": 39,
     "metadata": {},
     "output_type": "execute_result"
    }
   ],
   "source": [
    "sequence = '2 3 1 5 9 22 3 5'\n",
    "even_list = [int(x) for x in sequence.split(' ') if int(x) % 2 == 0]\n",
    "even_list"
   ]
  },
  {
   "cell_type": "code",
   "execution_count": 40,
   "metadata": {},
   "outputs": [
    {
     "data": {
      "text/plain": [
       "[3, 1, 5, 9, 3, 5]"
      ]
     },
     "execution_count": 40,
     "metadata": {},
     "output_type": "execute_result"
    }
   ],
   "source": [
    "odd_list = [int(x) for x in sequence.split(' ') if int(x) % 2 != 0]\n",
    "odd_list"
   ]
  },
  {
   "cell_type": "code",
   "execution_count": 41,
   "metadata": {},
   "outputs": [
    {
     "name": "stdout",
     "output_type": "stream",
     "text": [
      "3\n"
     ]
    }
   ],
   "source": [
    "if len(even_list) > len(odd_list):\n",
    "    print(even_list[0])\n",
    "else:\n",
    "    print(odd_list[0])"
   ]
  },
  {
   "cell_type": "code",
   "execution_count": 44,
   "metadata": {},
   "outputs": [
    {
     "name": "stdout",
     "output_type": "stream",
     "text": [
      "{'2018-01-01': {'yandex': {'cpc': 100}}}\n"
     ]
    }
   ],
   "source": [
    "my_list = ['2018-01-01', 'yandex', 'cpc', 100] \n",
    "\n",
    "# new_dict = my_list[3]\n",
    "# i = 2\n",
    "\n",
    "while i >= 0:\n",
    "    new_dict = {my_list[i]:new_dict}\n",
    "    i = i-1\n",
    "\n",
    "print(new_dict)"
   ]
  },
  {
   "cell_type": "code",
   "execution_count": null,
   "metadata": {},
   "outputs": [],
   "source": []
  }
 ],
 "metadata": {
  "kernelspec": {
   "display_name": "Python 3",
   "language": "python",
   "name": "python3"
  },
  "language_info": {
   "codemirror_mode": {
    "name": "ipython",
    "version": 3
   },
   "file_extension": ".py",
   "mimetype": "text/x-python",
   "name": "python",
   "nbconvert_exporter": "python",
   "pygments_lexer": "ipython3",
   "version": "3.7.6"
  }
 },
 "nbformat": 4,
 "nbformat_minor": 4
}
