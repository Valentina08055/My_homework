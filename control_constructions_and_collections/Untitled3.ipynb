{
 "cells": [
  {
   "cell_type": "code",
   "execution_count": 123,
   "metadata": {},
   "outputs": [
    {
     "name": "stdout",
     "output_type": "stream",
     "text": [
      "[[3, 4], [2, 3], [2, 3], [2, 3], [3, 4], [3, 4], [3, 4]]\n"
     ]
    }
   ],
   "source": [
    "queries = [\n",
    "    'смотреть сериалы онлайн',\n",
    "    'новости спорта',\n",
    "    'афиша кино',\n",
    "    'курс доллара',\n",
    "    'сериалы этим летом',\n",
    "    'курс по питону',\n",
    "    'сериалы про спорт',\n",
    "]\n",
    "\n",
    "\n",
    "new_list = []\n",
    "new_list2 = []\n",
    "new_list3 = []\n",
    "words_in_queries = 0\n",
    "\n",
    "for i in queries:\n",
    "    new_list.append(i.strip().split(' '))\n",
    "\n",
    "for j in new_list:\n",
    "    x = len(j)\n",
    "    new_list2.append(x)\n",
    "\n",
    "for words_in_queries in new_list2:\n",
    "    z = new_list2.count(words_in_queries)\n",
    "    y = [words_in_queries,z]\n",
    "    words_in_queries = words_in_queries + 1\n",
    "# if words_in_queries not in new_list2:\n",
    "    new_list3.append(y)\n",
    "\n",
    "print(new_list3)\n"
   ]
  },
  {
   "cell_type": "code",
   "execution_count": null,
   "metadata": {},
   "outputs": [],
   "source": []
  },
  {
   "cell_type": "code",
   "execution_count": null,
   "metadata": {},
   "outputs": [],
   "source": []
  }
 ],
 "metadata": {
  "kernelspec": {
   "display_name": "Python 3",
   "language": "python",
   "name": "python3"
  },
  "language_info": {
   "codemirror_mode": {
    "name": "ipython",
    "version": 3
   },
   "file_extension": ".py",
   "mimetype": "text/x-python",
   "name": "python",
   "nbconvert_exporter": "python",
   "pygments_lexer": "ipython3",
   "version": "3.7.6"
  }
 },
 "nbformat": 4,
 "nbformat_minor": 4
}
