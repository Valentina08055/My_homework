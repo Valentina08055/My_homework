{
 "cells": [
  {
   "cell_type": "code",
   "execution_count": 2,
   "metadata": {},
   "outputs": [
    {
     "name": "stdout",
     "output_type": "stream",
     "text": [
      "[['2018-01-01', 'user1', '3'], ['2018-01-07', 'user1', '4'], ['2018-03-29', 'user1', '1'], ['2018-04-04', 'user1', '13'], ['2018-01-05', 'user2', '7'], ['2018-06-14', 'user3', '4'], ['2018-07-02', 'user3', '10'], ['2018-03-21', 'user4', '19'], ['2018-03-22', 'user4', '4'], ['2018-04-22', 'user4', '8'], ['2018-05-03', 'user4', '9'], ['2018-05-11', 'user4', '11']]\n"
     ]
    }
   ],
   "source": [
    "stream = [\n",
    "    '2018-01-01,user1,3',\n",
    "    '2018-01-07,user1,4',\n",
    "    '2018-03-29,user1,1',\n",
    "    '2018-04-04,user1,13',\n",
    "    '2018-01-05,user2,7',\n",
    "    '2018-06-14,user3,4',\n",
    "    '2018-07-02,user3,10',\n",
    "    '2018-03-21,user4,19',\n",
    "    '2018-03-22,user4,4',\n",
    "    '2018-04-22,user4,8',\n",
    "    '2018-05-03,user4,9',\n",
    "    '2018-05-11,user4,11',\n",
    "]\n",
    "new_list = []\n",
    "user_list = []\n",
    "views = 0\n",
    "for i in stream:\n",
    "    new_list.append(i.split(','))\n",
    "# print(new_list)\n",
    "for user in new_list:\n",
    "    views += int(user[2])\n",
    "    if user[1] not in user_list:\n",
    "        user_list.append(user[1])\n",
    "print('Среднее значение просмотров на пользователя =',views/len(user_list))"
   ]
  },
  {
   "cell_type": "code",
   "execution_count": 60,
   "metadata": {},
   "outputs": [
    {
     "name": "stdout",
     "output_type": "stream",
     "text": [
      "Поисковых запросов из 3 слов: 57 %\n",
      "Поисковых запросов из 2 слов: 43 %\n"
     ]
    }
   ],
   "source": [
    "queries = [\n",
    "    'смотреть сериалы онлайн',\n",
    "    'новости спорта',\n",
    "    'афиша кино',\n",
    "    'курс доллара',\n",
    "    'сериалы этим летом',\n",
    "    'курс по питону',\n",
    "    'сериалы про спорт',\n",
    "]\n",
    "\n",
    "new_list = []\n",
    "new_list2 = []\n",
    "new_list3 = []\n",
    "new_list4 = []\n",
    "words_in_queries = 0\n",
    "\n",
    "for i in queries:\n",
    "    new_list.append(i.strip().split(' '))\n",
    "\n",
    "for i in new_list:\n",
    "    total_el = len(new_list)\n",
    "    x = len(i)\n",
    "    new_list2.append(x)\n",
    "\n",
    "for words_in_queries in new_list2:\n",
    "    z = new_list2.count(words_in_queries)\n",
    "    y = [words_in_queries,z/total_el]\n",
    "    words_in_queries = words_in_queries + 1\n",
    "    new_list3.append(y)\n",
    "\n",
    "for el in new_list3:\n",
    "    if el not in new_list4:\n",
    "        new_list4.append(el)\n",
    "zzz = 0       \n",
    "for i in new_list4:\n",
    "    print(\"Поисковых запросов из\", new_list4[zzz][0],\"слов:\",round(new_list4[zzz][1]*100),\"%\") \n",
    "    zzz = zzz + 1\n",
    "  \n"
   ]
  },
  {
   "cell_type": "code",
   "execution_count": null,
   "metadata": {},
   "outputs": [],
   "source": []
  }
 ],
 "metadata": {
  "kernelspec": {
   "display_name": "Python 3",
   "language": "python",
   "name": "python3"
  },
  "language_info": {
   "codemirror_mode": {
    "name": "ipython",
    "version": 3
   },
   "file_extension": ".py",
   "mimetype": "text/x-python",
   "name": "python",
   "nbconvert_exporter": "python",
   "pygments_lexer": "ipython3",
   "version": "3.7.6"
  }
 },
 "nbformat": 4,
 "nbformat_minor": 4
}
