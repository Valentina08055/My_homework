{
 "cells": [
  {
   "cell_type": "code",
   "execution_count": null,
   "metadata": {},
   "outputs": [],
   "source": [
    "directories = {\n",
    "    '1': ['2207 876234', '11-2'],\n",
    "    '2': ['10006'],\n",
    "    '3': []\n",
    "}\n",
    "\n",
    "delete_doc = input(\"Введите номер документа для удаления:\")\n",
    "\n",
    "for i in directories.items():\n",
    "    print(i)\n",
    "    for element in i:\n",
    "        if delete_doc in element:\n",
    "            element.remove(delete_doc)\n",
    "       \n",
    "            \n",
    "print(directories)"
   ]
  },
  {
   "cell_type": "code",
   "execution_count": null,
   "metadata": {},
   "outputs": [],
   "source": [
    "m – move – команда, которая спросит номер документа и целевую полку и переместит его\n",
    "с текущей полки на целевую. Корректно обработайте кейсы, когда пользователь пытается\n",
    "переместить несуществующий документ или переместить документ на несуществующую полку;"
   ]
  },
  {
   "cell_type": "code",
   "execution_count": null,
   "metadata": {},
   "outputs": [],
   "source": [
    "directories = {\n",
    "    '1': ['2207 876234', '11-2'],\n",
    "    '2': ['10006'],\n",
    "    '3': []\n",
    "}\n",
    "\n",
    "delete_doc = input(\"Введите номер документа для перемещения:\")\n",
    "\n",
    "x = 0\n",
    "for i in directories.values():\n",
    "    if delete_doc in i:\n",
    "        x += 1\n",
    "        i.remove(delete_doc)\n",
    "    else:\n",
    "        print(\"Такого документа не существует\")\n",
    "        break\n",
    "        \n",
    "print(directories)"
   ]
  },
  {
   "cell_type": "code",
   "execution_count": 21,
   "metadata": {},
   "outputs": [
    {
     "name": "stdout",
     "output_type": "stream",
     "text": [
      "Введите номер документа:555\n",
      "Введите номер полки:1\n",
      "{'1': ['2207 876234', '11-2'], '2': ['10006'], '3': []}\n"
     ]
    }
   ],
   "source": [
    "directories = {\n",
    "    '1': ['2207 876234', '11-2'],\n",
    "    '2': ['10006'],\n",
    "    '3': []\n",
    "}\n",
    "\n",
    "doc_number = input(\"Введите номер документа:\")\n",
    "shelf_number_for_replace = input(\"Введите номер полки:\")\n",
    "\n",
    "for i in directories.items():\n",
    "     for element in i:\n",
    "            if doc_number in element:\n",
    "                directories[shelf_number_for_replace].append(doc_number)\n",
    "print(directories)"
   ]
  },
  {
   "cell_type": "code",
   "execution_count": null,
   "metadata": {},
   "outputs": [],
   "source": [
    "a – add – команда, которая добавит новый документ в каталог и в перечень полок,\n",
    "спросив его номер, тип, имя владельца и номер полки, на котором он будет храниться.\n",
    "Корректно обработайте ситуацию, когда пользователь будет пытаться \n",
    "добавить документ на несуществующую полку."
   ]
  },
  {
   "cell_type": "code",
   "execution_count": 26,
   "metadata": {},
   "outputs": [
    {
     "name": "stdout",
     "output_type": "stream",
     "text": [
      "Введите номер документа для добавления8888\n",
      "Введите имя владельца документаВАся\n",
      "Введите тип документапасп\n",
      "Введите номер полки хранения1\n",
      "[{'type': 'passport', 'number': '2207 876234', 'name': 'Василий Гупкин'}, {'type': 'invoice', 'number': '11-2', 'name': 'Геннадий Покемонов'}, {'type': 'insurance', 'number': '10006', 'name': 'Аристарх Павлов'}, {'type': 'пасп', 'number': '8888', 'name': 'ВАся'}]\n",
      "{'1': ['2207 876234', '11-2', '8888'], '2': ['10006'], '3': []}\n"
     ]
    }
   ],
   "source": [
    "documents = [\n",
    "    {'type': 'passport', 'number': '2207 876234', 'name': 'Василий Гупкин'},\n",
    "    {'type': 'invoice', 'number': '11-2', 'name': 'Геннадий Покемонов'},\n",
    "    {'type': 'insurance', 'number': '10006', 'name': 'Аристарх Павлов'}\n",
    "]\n",
    "\n",
    "\n",
    "doc_number = input(\"Введите номер документа для добавления\")\n",
    "documents_owner = input(\"Введите имя владельца документа\")\n",
    "document_type = input(str(\"Введите тип документа\"))\n",
    "shelf_number = input(\"Введите номер полки хранения\")\n",
    "new_directory = {}\n",
    "documents.append({'type':document_type,'number':doc_number,'name':documents_owner })\n",
    "print(documents)\n",
    "\n",
    "directories = {\n",
    "    '1': ['2207 876234', '11-2'],\n",
    "    '2': ['10006'],\n",
    "    '3': []\n",
    "}\n",
    "\n",
    "check_list = []\n",
    "for i in directories.values():\n",
    "    for el in i:\n",
    "        check_list.append(el)\n",
    "\n",
    "\n",
    "if doc_number in check_list:\n",
    "    print(\"ооо\")\n",
    "else:\n",
    "    for i in directories.items():\n",
    "        for el in i:\n",
    "            if doc_number in el:\n",
    "                el.remove(doc_number)  \n",
    "directories[shelf_number].append(doc_number)\n",
    "directories\n",
    "print(directories)\n",
    "\n"
   ]
  },
  {
   "cell_type": "code",
   "execution_count": null,
   "metadata": {},
   "outputs": [],
   "source": [
    "def a(doc_number,documents_owner,document_type,shelf_number):\n",
    "    \n",
    "    documents = [\n",
    "        {'type': 'passport', 'number': '2207 876234', 'name': 'Василий Гупкин'},\n",
    "        {'type': 'invoice', 'number': '11-2', 'name': 'Геннадий Покемонов'},\n",
    "        {'type': 'insurance', 'number': '10006', 'name': 'Аристарх Павлов'}\n",
    "    ]\n",
    "\n",
    "    doc_number = input(\"Введите номер документа для добавления\")\n",
    "    documents_owner = input(\"Введите имя владельца документа\")\n",
    "    document_type = input(str(\"Введите тип документа\"))\n",
    "    shelf_number = input(\"Введите номер полки хранения\")\n",
    "    new_directory = {}\n",
    "    documents.append({'type':document_type,'number':doc_number,'name':documents_owner })\n",
    "    print(documents)\n",
    "\n",
    "    directories = {\n",
    "        '1': ['2207 876234', '11-2'],\n",
    "        '2': ['10006'],\n",
    "        '3': []\n",
    "    }\n",
    "\n",
    "    check_list = []\n",
    "    for i in directories.values():\n",
    "        for el in i:\n",
    "            check_list.append(el)\n",
    "\n",
    "\n",
    "    if doc_number in check_list:\n",
    "        print(\"ооо\")\n",
    "    else:\n",
    "        for i in directories.items():\n",
    "            for el in i:\n",
    "                if doc_number in el:\n",
    "                    el.remove(doc_number)  \n",
    "    directories[shelf_number].append(doc_number)\n",
    "    directories\n",
    "    \n",
    "    return directories\n",
    "    print(directories)"
   ]
  },
  {
   "cell_type": "code",
   "execution_count": null,
   "metadata": {},
   "outputs": [],
   "source": [
    "a(doc_number,documents_owner,document_type,shelf_number)"
   ]
  },
  {
   "cell_type": "code",
   "execution_count": null,
   "metadata": {},
   "outputs": [],
   "source": []
  }
 ],
 "metadata": {
  "kernelspec": {
   "display_name": "Python 3",
   "language": "python",
   "name": "python3"
  },
  "language_info": {
   "codemirror_mode": {
    "name": "ipython",
    "version": 3
   },
   "file_extension": ".py",
   "mimetype": "text/x-python",
   "name": "python",
   "nbconvert_exporter": "python",
   "pygments_lexer": "ipython3",
   "version": "3.7.6"
  }
 },
 "nbformat": 4,
 "nbformat_minor": 4
}
