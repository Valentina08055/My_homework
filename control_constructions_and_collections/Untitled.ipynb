{
 "cells": [
  {
   "cell_type": "code",
   "execution_count": 42,
   "metadata": {},
   "outputs": [],
   "source": [
    "documents = [\n",
    "    {'type': 'passport', 'number': '2207 876234', 'name': 'Василий Гупкин'},\n",
    "    {'type': 'invoice', 'number': '11-2', 'name': 'Геннадий Покемонов'},\n",
    "    {'type': 'insurance', 'number': '10006', 'name': 'Аристарх Павлов'}\n",
    "]\n",
    "\n",
    "def people (number_input):\n",
    "    number_input = input(\"Введите номер документа:\")\n",
    "\n",
    "    for i in documents:\n",
    "        if number_input == i['number']:\n",
    "            print(i['name'])\n"
   ]
  },
  {
   "cell_type": "code",
   "execution_count": 62,
   "metadata": {},
   "outputs": [
    {
     "name": "stdout",
     "output_type": "stream",
     "text": [
      "Введите номер документа:11-2\n",
      "Геннадий Покемонов\n"
     ]
    }
   ],
   "source": [
    "people(documents)"
   ]
  },
  {
   "cell_type": "code",
   "execution_count": 58,
   "metadata": {},
   "outputs": [
    {
     "name": "stdout",
     "output_type": "stream",
     "text": [
      "Введите номер документа:11-2\n",
      "Полка № 1\n"
     ]
    }
   ],
   "source": [
    "directories = {\n",
    "    '1': ['2207 876234', '11-2'],\n",
    "    '2': ['10006'],\n",
    "    '3': []\n",
    "}\n",
    "\n",
    "\n",
    "def shelf (number_input):\n",
    "    number_input = input(\"Введите номер документа:\")\n",
    "\n",
    "    for i in directories.items():\n",
    "        for element in i:\n",
    "            if number_input in element:\n",
    "                print(\"Полка №\",i[0])\n",
    "\n",
    "                "
   ]
  },
  {
   "cell_type": "code",
   "execution_count": 64,
   "metadata": {},
   "outputs": [
    {
     "name": "stdout",
     "output_type": "stream",
     "text": [
      "Введите номер документа:10006\n"
     ]
    },
    {
     "ename": "TypeError",
     "evalue": "'function' object is not subscriptable",
     "output_type": "error",
     "traceback": [
      "\u001b[1;31m---------------------------------------------------------------------------\u001b[0m",
      "\u001b[1;31mTypeError\u001b[0m                                 Traceback (most recent call last)",
      "\u001b[1;32m<ipython-input-64-42fe377befb3>\u001b[0m in \u001b[0;36m<module>\u001b[1;34m\u001b[0m\n\u001b[1;32m----> 1\u001b[1;33m \u001b[0mshelf\u001b[0m\u001b[1;33m(\u001b[0m\u001b[0mdirectories\u001b[0m\u001b[1;33m)\u001b[0m\u001b[1;33m\u001b[0m\u001b[1;33m\u001b[0m\u001b[0m\n\u001b[0m",
      "\u001b[1;32m<ipython-input-50-00747d3fd347>\u001b[0m in \u001b[0;36mshelf\u001b[1;34m(number_input)\u001b[0m\n\u001b[0;32m     12\u001b[0m         \u001b[1;32mfor\u001b[0m \u001b[0melement\u001b[0m \u001b[1;32min\u001b[0m \u001b[0mshelfs\u001b[0m\u001b[1;33m:\u001b[0m\u001b[1;33m\u001b[0m\u001b[1;33m\u001b[0m\u001b[0m\n\u001b[0;32m     13\u001b[0m             \u001b[1;32mif\u001b[0m \u001b[0mnumber_input\u001b[0m \u001b[1;32min\u001b[0m \u001b[0melement\u001b[0m\u001b[1;33m:\u001b[0m\u001b[1;33m\u001b[0m\u001b[1;33m\u001b[0m\u001b[0m\n\u001b[1;32m---> 14\u001b[1;33m                 \u001b[0mprint\u001b[0m\u001b[1;33m(\u001b[0m\u001b[1;34m\"Полка №\"\u001b[0m\u001b[1;33m,\u001b[0m\u001b[0mshelf\u001b[0m\u001b[1;33m[\u001b[0m\u001b[1;36m0\u001b[0m\u001b[1;33m]\u001b[0m\u001b[1;33m)\u001b[0m\u001b[1;33m\u001b[0m\u001b[1;33m\u001b[0m\u001b[0m\n\u001b[0m\u001b[0;32m     15\u001b[0m \u001b[1;33m\u001b[0m\u001b[0m\n\u001b[0;32m     16\u001b[0m \u001b[1;33m\u001b[0m\u001b[0m\n",
      "\u001b[1;31mTypeError\u001b[0m: 'function' object is not subscriptable"
     ]
    }
   ],
   "source": [
    "shelf(directories)"
   ]
  },
  {
   "cell_type": "code",
   "execution_count": 9,
   "metadata": {},
   "outputs": [],
   "source": [
    "documents = [\n",
    "    {'type': 'passport', 'number': '2207 876234', 'name': 'Василий Гупкин'},\n",
    "    {'type': 'invoice', 'number': '11-2', 'name': 'Геннадий Покемонов'},\n",
    "    {'type': 'insurance', 'number': '10006', 'name': 'Аристарх Павлов'}\n",
    " ]\n",
    "\n",
    "directories = {\n",
    "        '1': ['2207 876234', '11-2'],\n",
    "        '2': ['10006'],\n",
    "        '3': []\n",
    "    }\n",
    "\n",
    "def a():\n",
    "    doc_number = input(\"Введите номер документа для добавления: \")\n",
    "    documents_owner = input(\"Введите имя владельца документа: \")\n",
    "    document_type = input(str(\"Введите тип документа: \"))\n",
    "    shelf_number = input(\"Введите номер полки хранения: \")\n",
    "    new_directory = {}\n",
    "    documents.append({'type':document_type,'number':doc_number,'name':documents_owner })\n",
    "\n",
    "\n",
    "    \n",
    "\n",
    "    check_list = []\n",
    "    for i in directories.values():\n",
    "        for el in i:\n",
    "            check_list.append(el)\n",
    "\n",
    "\n",
    "    if doc_number in check_list:\n",
    "        print(\"ооо\")\n",
    "    else:\n",
    "        for i in directories.items():\n",
    "            for el in i:\n",
    "                if doc_number in el:\n",
    "                    el.remove(doc_number)  \n",
    "    directories[shelf_number].append(doc_number)\n",
    "    directories\n",
    "\n",
    "       \n",
    "\n",
    "    print(documents)\n",
    "    print(directories)"
   ]
  },
  {
   "cell_type": "code",
   "execution_count": 10,
   "metadata": {},
   "outputs": [
    {
     "name": "stdout",
     "output_type": "stream",
     "text": [
      "Введите номер документа для добавления: 8888888\n",
      "Введите имя владельца документа: Leon\n",
      "Введите тип документа: passport\n",
      "Введите номер полки хранения: 2\n",
      "[{'type': 'passport', 'number': '2207 876234', 'name': 'Василий Гупкин'}, {'type': 'invoice', 'number': '11-2', 'name': 'Геннадий Покемонов'}, {'type': 'insurance', 'number': '10006', 'name': 'Аристарх Павлов'}, {'type': 'passport', 'number': '8888888', 'name': 'Leon'}]\n",
      "{'1': ['2207 876234', '11-2'], '2': ['10006', '8888888'], '3': []}\n"
     ]
    }
   ],
   "source": [
    "a()"
   ]
  },
  {
   "cell_type": "code",
   "execution_count": 17,
   "metadata": {},
   "outputs": [],
   "source": [
    "directories = {\n",
    "        '1': ['2207 876234', '11-2'],\n",
    "        '2': ['10006'],\n",
    "        '3': []\n",
    "    }\n",
    "\n",
    "def check_shelf():\n",
    "    input_new_shelf = input(\"Введите новую полку:\")\n",
    "\n",
    "    if input_new_shelf in directories:   \n",
    "        print(\"Такая полка уже есть\")"
   ]
  },
  {
   "cell_type": "code",
   "execution_count": null,
   "metadata": {},
   "outputs": [],
   "source": [
    "check_shelf()"
   ]
  },
  {
   "cell_type": "code",
   "execution_count": null,
   "metadata": {},
   "outputs": [],
   "source": []
  }
 ],
 "metadata": {
  "kernelspec": {
   "display_name": "Python 3",
   "language": "python",
   "name": "python3"
  },
  "language_info": {
   "codemirror_mode": {
    "name": "ipython",
    "version": 3
   },
   "file_extension": ".py",
   "mimetype": "text/x-python",
   "name": "python",
   "nbconvert_exporter": "python",
   "pygments_lexer": "ipython3",
   "version": "3.7.6"
  }
 },
 "nbformat": 4,
 "nbformat_minor": 4
}
