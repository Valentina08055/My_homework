{
 "cells": [
  {
   "cell_type": "code",
   "execution_count": 1,
   "metadata": {},
   "outputs": [
    {
     "ename": "FileNotFoundError",
     "evalue": "[Errno 2] No such file or directory: 'purchase_log.txt'",
     "output_type": "error",
     "traceback": [
      "\u001b[1;31m---------------------------------------------------------------------------\u001b[0m",
      "\u001b[1;31mFileNotFoundError\u001b[0m                         Traceback (most recent call last)",
      "\u001b[1;32m<ipython-input-1-364765eb0bf2>\u001b[0m in \u001b[0;36m<module>\u001b[1;34m\u001b[0m\n\u001b[0;32m      1\u001b[0m \u001b[0mi\u001b[0m \u001b[1;33m=\u001b[0m \u001b[1;36m0\u001b[0m\u001b[1;33m\u001b[0m\u001b[1;33m\u001b[0m\u001b[0m\n\u001b[1;32m----> 2\u001b[1;33m \u001b[1;32mwith\u001b[0m \u001b[0mopen\u001b[0m\u001b[1;33m(\u001b[0m\u001b[1;34m'purchase_log.txt'\u001b[0m\u001b[1;33m,\u001b[0m\u001b[0mencoding\u001b[0m \u001b[1;33m=\u001b[0m \u001b[1;34m'utf-8'\u001b[0m\u001b[1;33m)\u001b[0m \u001b[1;32mas\u001b[0m \u001b[0mf\u001b[0m\u001b[1;33m:\u001b[0m\u001b[1;33m\u001b[0m\u001b[1;33m\u001b[0m\u001b[0m\n\u001b[0m\u001b[0;32m      3\u001b[0m     \u001b[1;32mfor\u001b[0m \u001b[0mline\u001b[0m \u001b[1;32min\u001b[0m \u001b[0mf\u001b[0m\u001b[1;33m:\u001b[0m\u001b[1;33m\u001b[0m\u001b[1;33m\u001b[0m\u001b[0m\n\u001b[0;32m      4\u001b[0m         \u001b[0mline\u001b[0m \u001b[1;33m=\u001b[0m \u001b[0mline\u001b[0m\u001b[1;33m.\u001b[0m\u001b[0mstrip\u001b[0m\u001b[1;33m(\u001b[0m\u001b[1;33m)\u001b[0m\u001b[1;33m\u001b[0m\u001b[1;33m\u001b[0m\u001b[0m\n\u001b[0;32m      5\u001b[0m \u001b[1;33m\u001b[0m\u001b[0m\n",
      "\u001b[1;31mFileNotFoundError\u001b[0m: [Errno 2] No such file or directory: 'purchase_log.txt'"
     ]
    }
   ],
   "source": [
    "i = 0\n",
    "with open('purchase_log.txt',encoding = 'utf-8') as f:\n",
    "    for line in f:\n",
    "        line = line.strip()\n",
    "              \n",
    "        dict_ = json.loads(line)\n",
    "        y = dict_['user_id']\n",
    "        print(y)\n",
    "        \n",
    "        i += 1\n",
    "        if i > 25:\n",
    "            break\n",
    "            \n",
    "i = 0\n",
    "with open('visit_log.csv') as f:\n",
    "    for line in f:\n",
    "        line = line.strip().split(',')\n",
    "        x = line[0]\n",
    "#         print(x)\n",
    "    \n",
    "#         i += 1\n",
    "#         if i > 5:\n",
    "#             break\n",
    "for el in y:\n",
    "    if y in x:\n",
    "        print(\"яяя\")"
   ]
  },
  {
   "cell_type": "code",
   "execution_count": 19,
   "metadata": {},
   "outputs": [],
   "source": [
    "documents = [\n",
    "    {'type': 'passport', 'number': '2207 876234', 'name': 'Василий Гупкин'},\n",
    "    {'type': 'invoice', 'number': '11-2', 'name': 'Геннадий Покемонов'},\n",
    "    {'type': 'insurance', 'number': '10006', 'name': 'Аристарх Павлов'}\n",
    " ]\n",
    "\n",
    "directories = {\n",
    "        '1': ['2207 876234', '11-2'],\n",
    "        '2': ['10006'],\n",
    "        '3': []\n",
    "    }\n",
    "\n",
    "def a():\n",
    "    doc_number = input(\"Введите номер документа для добавления: \")\n",
    "    documents_owner = input(\"Введите имя владельца документа: \")\n",
    "    document_type = input(str(\"Введите тип документа: \"))\n",
    "    shelf_number = input(\"Введите номер полки хранения: \")\n",
    "    new_directory = {}\n",
    "    \n",
    "    check_list1 = []\n",
    "    for i in documents:\n",
    "        check_list1.append(i['number'])\n",
    "    if doc_number in check_list1:\n",
    "        pass\n",
    "    elif shelf_number not in directories:\n",
    "        pass\n",
    "    else:\n",
    "        documents.append({'type':document_type,'number':doc_number,'name':documents_owner })\n",
    " \n",
    "\n",
    "    check_list = []\n",
    "    for i in directories.values():\n",
    "        for el in i:\n",
    "            check_list.append(el)\n",
    "\n",
    "\n",
    "    if shelf_number not in directories:   \n",
    "        print(\"Такая полка не существует\")\n",
    "    elif doc_number in check_list:\n",
    "        print(\"Такой документ уже есть\")\n",
    "    else:\n",
    "        for i in directories.items():\n",
    "            for el in i:\n",
    "                if doc_number in el:\n",
    "                    el.remove(doc_number)  \n",
    "        directories[shelf_number].append(doc_number)\n",
    "        directories\n",
    "\n",
    "       \n",
    "\n",
    "    print(documents)\n",
    "    print(directories)"
   ]
  },
  {
   "cell_type": "code",
   "execution_count": 20,
   "metadata": {},
   "outputs": [
    {
     "name": "stdout",
     "output_type": "stream",
     "text": [
      "Введите номер документа для добавления: 5555555\n",
      "Введите имя владельца документа: pasport\n",
      "Введите тип документа: passport\n",
      "Введите номер полки хранения: 5\n",
      "Такая полка не существует\n",
      "[{'type': 'passport', 'number': '2207 876234', 'name': 'Василий Гупкин'}, {'type': 'invoice', 'number': '11-2', 'name': 'Геннадий Покемонов'}, {'type': 'insurance', 'number': '10006', 'name': 'Аристарх Павлов'}]\n",
      "{'1': ['2207 876234', '11-2'], '2': ['10006'], '3': []}\n"
     ]
    }
   ],
   "source": [
    "a()"
   ]
  },
  {
   "cell_type": "code",
   "execution_count": 22,
   "metadata": {},
   "outputs": [
    {
     "name": "stdout",
     "output_type": "stream",
     "text": [
      "Введите командуa\n",
      "Введите номер документа для добавления: 555555\n",
      "Введите имя владельца документа: Denis\n",
      "Введите тип документа: passport\n",
      "Введите номер полки хранения: 7\n",
      "Такая полка не существует\n",
      "[{'type': 'passport', 'number': '2207 876234', 'name': 'Василий Гупкин'}, {'type': 'invoice', 'number': '11-2', 'name': 'Геннадий Покемонов'}, {'type': 'insurance', 'number': '10006', 'name': 'Аристарх Павлов'}]\n",
      "{'1': ['2207 876234', '11-2'], '2': ['10006'], '3': []}\n"
     ]
    }
   ],
   "source": [
    "\n",
    "x = input(\"Введите команду\")\n",
    "if x == \"a\":\n",
    "    a()\n",
    "    "
   ]
  },
  {
   "cell_type": "code",
   "execution_count": null,
   "metadata": {},
   "outputs": [],
   "source": []
  }
 ],
 "metadata": {
  "kernelspec": {
   "display_name": "Python 3",
   "language": "python",
   "name": "python3"
  },
  "language_info": {
   "codemirror_mode": {
    "name": "ipython",
    "version": 3
   },
   "file_extension": ".py",
   "mimetype": "text/x-python",
   "name": "python",
   "nbconvert_exporter": "python",
   "pygments_lexer": "ipython3",
   "version": "3.7.6"
  }
 },
 "nbformat": 4,
 "nbformat_minor": 4
}
