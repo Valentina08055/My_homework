{
 "cells": [
  {
   "cell_type": "code",
   "execution_count": null,
   "metadata": {},
   "outputs": [],
   "source": [
    "# Задание 1. \n",
    "\n",
    "# Даны 2 строки: long_phrase и short_phrase. Напишите код, \n",
    "# который проверяет действительно ли длинная фраза long_phrase длиннее короткой short_phrase \n",
    "# и выводит True или False в зависимости от результата сравнения.\n",
    "\n",
    "\n",
    "\n",
    "long_phrase = 'Насколько проще было бы писать программы, если бы не заказчики'\n",
    "short_phrase = '640Кб должно хватить для любых задач. Билл Гейтс (по легенде)'\n",
    "\n",
    "if len(long_phrase) > len(short_phrase):\n",
    "    print(\"True\")\n",
    "else:\n",
    "    print(\"False\")\n"
   ]
  },
  {
   "cell_type": "code",
   "execution_count": null,
   "metadata": {},
   "outputs": [],
   "source": [
    "# Задание 2. \n",
    "\n",
    "# Дано значение объема файла в байтах (в мегабайте 2^20 байт). \n",
    "# Напишите перевод этого значения в мегабайты в формате: \"Объем файла равен 213.68Mb\".\n",
    "\n",
    "\n",
    "\n",
    "Mb = 2**20\n",
    "Mb*3\n",
    "size = 3145728/2**20\n",
    "print(\"Объем файла равен\",round(size),\"Мб\")\n"
   ]
  },
  {
   "cell_type": "code",
   "execution_count": null,
   "metadata": {},
   "outputs": [],
   "source": [
    "# Задание 3. Разработать приложение для определения знака зодиака по дате рождения. \n",
    "# Пример:\n",
    "# Введите месяц: март\n",
    "# Введите число: 6\n",
    "# Вывод: Рыбы\n",
    "\n",
    "month = str(input(\"Введите месяц:\"))\n",
    "day = int(input(\"Введите число:\"))\n",
    "if month == 'декабрь' and day>21 or month =='январь' and day<21:\n",
    "    print(\"Козерог\")\n",
    "elif month == 'январь' and day>20 or month =='февраль' and day<20:\n",
    "    print(\"Водолей\")\n",
    "elif month == 'февраль' and day>19 or month =='март' and day<21:\n",
    "    print(\"Рыбы\")\n",
    "elif month == 'март' and day>20 or month =='апрель' and day<21:\n",
    "    print(\"Овен\")\n",
    "elif month == 'апрель' and day>20 or month =='май' and day<22:\n",
    "    print(\"Телец\")\n",
    "elif month == 'май' and day>21 or month =='июнь' and day<22:\n",
    "    print(\"Близнецы\")\n",
    "elif month == 'июнь' and day>21 or month =='июль' and day<23:\n",
    "    print(\"Рак\")\n",
    "elif month == 'июль' and day>22 or month =='август' and day<23:\n",
    "    print(\"Лев\")\n",
    "elif month == 'август' and day>22 or month =='сентябрь' and day<23:\n",
    "    print(\"Дева\")\n",
    "elif month == 'сентябрь' and day>22 or month =='октябрь' and day<23:\n",
    "    print(\"Весы\")\n",
    "elif month == 'октябрь' and day>22 or month =='ноябрь' and day<23:\n",
    "    print(\"Скорпион\")\n",
    "elif month == 'ноябрь' and day>22 or month =='декабрь' and day<22:\n",
    "    print(\"Стрелец\")\n",
    "else:\n",
    "    print(\"Неизвестный знак зодиака\")\n",
    "\n"
   ]
  },
  {
   "cell_type": "code",
   "execution_count": null,
   "metadata": {},
   "outputs": [],
   "source": [
    "# Задание 4. Нужно разработать приложение для финансового планирования. Приложение учитывает сколько уходит на ипотеку, \n",
    "# \"на жизнь\" и сколько нужно отложить на пенсию. Пользователь вводит:\n",
    "# заработанную плату в месяц.\n",
    "# сколько процентов от ЗП уходит на ипотеку.\n",
    "# сколько процентов от ЗП уходит \"на жизнь\".\n",
    "# сколько раз приходит премия в год.\n",
    "# Остальная часть заработанной платы откладывается на пенсию.\n",
    "# Также пользователю приходит премия в размере зарплаты, от которой половина уходит на отпуск, а вторая половина откладывается.\n",
    "# Программа должна учитывать сколько премий было в год.\n",
    "# Нужно вывести сколько денег тратит пользователь на ипотеку и сколько он накопит за год.\n",
    "# Пример:\n",
    "# Введите заработанную плату в месяц: 100000\n",
    "# Введите сколько процентов уходит на ипотеку: 30\n",
    "# Введите сколько процентов уходит на жизнь: 50\n",
    "# Введите количество премий за год: 2\n",
    "# Вывод: На ипотеку было потрачено: 360000 рублей Было накоплено: 340000 рублей\n",
    "\n",
    "\n",
    "\n",
    "\n",
    "salary = int(input(\"Введите заработанную плату в месяц:\"))\n",
    "hypothec = float(input(\"Введите сколько процентов уходит на ипотеку:\"))\n",
    "daily_expenses = float(input(\"Введите сколько процентов уходит на жизнь:\"))\n",
    "bonus_count = int(input(\"Введите количество премий за год:\"))\n",
    "bonus = bonus_count*salary/2\n",
    "hypothec_cost_year = salary*hypothec/100*12\n",
    "pension_capital = (salary - salary*hypothec/100 - salary*daily_expenses/100)*12 + bonus\n",
    "print(\"На ипотеку было потрачено:\",hypothec_cost_year)\n",
    "print(\"Было накоплено:\", pension_capital)\n",
    "\n"
   ]
  }
 ],
 "metadata": {
  "kernelspec": {
   "display_name": "Python 3",
   "language": "python",
   "name": "python3"
  },
  "language_info": {
   "codemirror_mode": {
    "name": "ipython",
    "version": 3
   },
   "file_extension": ".py",
   "mimetype": "text/x-python",
   "name": "python",
   "nbconvert_exporter": "python",
   "pygments_lexer": "ipython3",
   "version": "3.7.6"
  }
 },
 "nbformat": 4,
 "nbformat_minor": 4
}
